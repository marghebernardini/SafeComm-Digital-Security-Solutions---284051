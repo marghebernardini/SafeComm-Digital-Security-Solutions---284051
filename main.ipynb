{
  "nbformat": 4,
  "nbformat_minor": 0,
  "metadata": {
    "colab": {
      "provenance": []
    },
    "kernelspec": {
      "name": "python3",
      "display_name": "Python 3"
    },
    "language_info": {
      "name": "python"
    }
  },
  "cells": [
    {
      "cell_type": "code",
      "execution_count": null,
      "metadata": {
        "id": "MnxqM-Z5b_Sx",
        "colab": {
          "base_uri": "https://localhost:8080/"
        },
        "outputId": "f64446b2-fadb-4476-e019-09fb8c633be1"
      },
      "outputs": [
        {
          "output_type": "stream",
          "name": "stderr",
          "text": [
            "[nltk_data] Downloading package stopwords to /root/nltk_data...\n",
            "[nltk_data]   Package stopwords is already up-to-date!\n",
            "[nltk_data] Downloading package punkt to /root/nltk_data...\n",
            "[nltk_data]   Package punkt is already up-to-date!\n"
          ]
        }
      ],
      "source": [
        "import numpy as np\n",
        "import pandas as pd\n",
        "import re\n",
        "\n",
        "import matplotlib.pyplot as plt\n",
        "import seaborn as sns\n",
        "\n",
        "import os\n",
        "import requests\n",
        "import unicodedata\n",
        "from nltk.tokenize import word_tokenize\n",
        "\n",
        "import nltk\n",
        "nltk.download('stopwords')\n",
        "nltk.download('punkt')\n",
        "\n",
        "from nltk.corpus import stopwords\n",
        "from nltk.stem import PorterStemmer\n",
        "\n",
        "from sklearn.model_selection import train_test_split, cross_val_score\n",
        "from sklearn.feature_extraction.text import TfidfVectorizer\n",
        "from sklearn.preprocessing import MinMaxScaler\n",
        "\n",
        "from sklearn.neighbors import KNeighborsClassifier\n",
        "from sklearn.metrics import accuracy_score, classification_report, confusion_matrix, roc_curve, roc_auc_score, average_precision_score\n",
        "from sklearn.metrics import make_scorer, f1_score, precision_score\n",
        "from sklearn.linear_model import LogisticRegression\n",
        "from sklearn.svm import SVC\n",
        "from sklearn.neural_network import MLPClassifier\n",
        "\n",
        "from scipy.sparse import hstack"
      ]
    },
    {
      "cell_type": "markdown",
      "source": [
        "# **EDA**\n"
      ],
      "metadata": {
        "id": "CObPUcnIcbOV"
      }
    },
    {
      "cell_type": "markdown",
      "source": [
        "## Understand Columns Meanings"
      ],
      "metadata": {
        "id": "yyK6n3CSWlDy"
      }
    },
    {
      "cell_type": "markdown",
      "source": [
        "We want to properly understand what we are dealing with. Particularly, we want to visualize the columns of our dataset and to see their content.\n",
        "For this reason, we use pandas to read our csv file (the dataset we need to work on) and then we make it so that we can see the various headers."
      ],
      "metadata": {
        "id": "hIvQ5rtxqhUQ"
      }
    },
    {
      "cell_type": "code",
      "source": [
        "path_df = './sms.csv'\n",
        "sms_df = pd.read_csv(path_df)"
      ],
      "metadata": {
        "id": "f_Tr0z_ucjY9"
      },
      "execution_count": null,
      "outputs": []
    },
    {
      "cell_type": "code",
      "source": [
        "sms_df.head()"
      ],
      "metadata": {
        "colab": {
          "base_uri": "https://localhost:8080/",
          "height": 206
        },
        "id": "pUQfoh_hdGMc",
        "outputId": "ee31829f-c2e3-413d-e74e-7a751e6b667f"
      },
      "execution_count": null,
      "outputs": [
        {
          "output_type": "execute_result",
          "data": {
            "text/plain": [
              "   Fraudolent                                           SMS test       ID  \\\n",
              "0           0  Squeeeeeze!! This is christmas hug.. If u lik ...  1EWYRBL   \n",
              "1           0  And also I've sorta blown him off a couple tim...  ZY4PDK7   \n",
              "2           0  Mmm thats better now i got a roast down me! i...  KLUX2C6   \n",
              "3           0      Mm have some kanji dont eat anything heavy ok  955HXJ0   \n",
              "4           0  So there's a ring that comes with the guys cos...  00Q6EUC   \n",
              "\n",
              "  Date and Time  \n",
              "0    2017-12-02  \n",
              "1    2018-03-23  \n",
              "2    2016-10-29  \n",
              "3    2018-04-12  \n",
              "4    2016-08-01  "
            ],
            "text/html": [
              "\n",
              "  <div id=\"df-0956cdcf-1786-46fb-b9ed-5fc706168b94\" class=\"colab-df-container\">\n",
              "    <div>\n",
              "<style scoped>\n",
              "    .dataframe tbody tr th:only-of-type {\n",
              "        vertical-align: middle;\n",
              "    }\n",
              "\n",
              "    .dataframe tbody tr th {\n",
              "        vertical-align: top;\n",
              "    }\n",
              "\n",
              "    .dataframe thead th {\n",
              "        text-align: right;\n",
              "    }\n",
              "</style>\n",
              "<table border=\"1\" class=\"dataframe\">\n",
              "  <thead>\n",
              "    <tr style=\"text-align: right;\">\n",
              "      <th></th>\n",
              "      <th>Fraudolent</th>\n",
              "      <th>SMS test</th>\n",
              "      <th>ID</th>\n",
              "      <th>Date and Time</th>\n",
              "    </tr>\n",
              "  </thead>\n",
              "  <tbody>\n",
              "    <tr>\n",
              "      <th>0</th>\n",
              "      <td>0</td>\n",
              "      <td>Squeeeeeze!! This is christmas hug.. If u lik ...</td>\n",
              "      <td>1EWYRBL</td>\n",
              "      <td>2017-12-02</td>\n",
              "    </tr>\n",
              "    <tr>\n",
              "      <th>1</th>\n",
              "      <td>0</td>\n",
              "      <td>And also I've sorta blown him off a couple tim...</td>\n",
              "      <td>ZY4PDK7</td>\n",
              "      <td>2018-03-23</td>\n",
              "    </tr>\n",
              "    <tr>\n",
              "      <th>2</th>\n",
              "      <td>0</td>\n",
              "      <td>Mmm thats better now i got a roast down me! i...</td>\n",
              "      <td>KLUX2C6</td>\n",
              "      <td>2016-10-29</td>\n",
              "    </tr>\n",
              "    <tr>\n",
              "      <th>3</th>\n",
              "      <td>0</td>\n",
              "      <td>Mm have some kanji dont eat anything heavy ok</td>\n",
              "      <td>955HXJ0</td>\n",
              "      <td>2018-04-12</td>\n",
              "    </tr>\n",
              "    <tr>\n",
              "      <th>4</th>\n",
              "      <td>0</td>\n",
              "      <td>So there's a ring that comes with the guys cos...</td>\n",
              "      <td>00Q6EUC</td>\n",
              "      <td>2016-08-01</td>\n",
              "    </tr>\n",
              "  </tbody>\n",
              "</table>\n",
              "</div>\n",
              "    <div class=\"colab-df-buttons\">\n",
              "\n",
              "  <div class=\"colab-df-container\">\n",
              "    <button class=\"colab-df-convert\" onclick=\"convertToInteractive('df-0956cdcf-1786-46fb-b9ed-5fc706168b94')\"\n",
              "            title=\"Convert this dataframe to an interactive table.\"\n",
              "            style=\"display:none;\">\n",
              "\n",
              "  <svg xmlns=\"http://www.w3.org/2000/svg\" height=\"24px\" viewBox=\"0 -960 960 960\">\n",
              "    <path d=\"M120-120v-720h720v720H120Zm60-500h600v-160H180v160Zm220 220h160v-160H400v160Zm0 220h160v-160H400v160ZM180-400h160v-160H180v160Zm440 0h160v-160H620v160ZM180-180h160v-160H180v160Zm440 0h160v-160H620v160Z\"/>\n",
              "  </svg>\n",
              "    </button>\n",
              "\n",
              "  <style>\n",
              "    .colab-df-container {\n",
              "      display:flex;\n",
              "      gap: 12px;\n",
              "    }\n",
              "\n",
              "    .colab-df-convert {\n",
              "      background-color: #E8F0FE;\n",
              "      border: none;\n",
              "      border-radius: 50%;\n",
              "      cursor: pointer;\n",
              "      display: none;\n",
              "      fill: #1967D2;\n",
              "      height: 32px;\n",
              "      padding: 0 0 0 0;\n",
              "      width: 32px;\n",
              "    }\n",
              "\n",
              "    .colab-df-convert:hover {\n",
              "      background-color: #E2EBFA;\n",
              "      box-shadow: 0px 1px 2px rgba(60, 64, 67, 0.3), 0px 1px 3px 1px rgba(60, 64, 67, 0.15);\n",
              "      fill: #174EA6;\n",
              "    }\n",
              "\n",
              "    .colab-df-buttons div {\n",
              "      margin-bottom: 4px;\n",
              "    }\n",
              "\n",
              "    [theme=dark] .colab-df-convert {\n",
              "      background-color: #3B4455;\n",
              "      fill: #D2E3FC;\n",
              "    }\n",
              "\n",
              "    [theme=dark] .colab-df-convert:hover {\n",
              "      background-color: #434B5C;\n",
              "      box-shadow: 0px 1px 3px 1px rgba(0, 0, 0, 0.15);\n",
              "      filter: drop-shadow(0px 1px 2px rgba(0, 0, 0, 0.3));\n",
              "      fill: #FFFFFF;\n",
              "    }\n",
              "  </style>\n",
              "\n",
              "    <script>\n",
              "      const buttonEl =\n",
              "        document.querySelector('#df-0956cdcf-1786-46fb-b9ed-5fc706168b94 button.colab-df-convert');\n",
              "      buttonEl.style.display =\n",
              "        google.colab.kernel.accessAllowed ? 'block' : 'none';\n",
              "\n",
              "      async function convertToInteractive(key) {\n",
              "        const element = document.querySelector('#df-0956cdcf-1786-46fb-b9ed-5fc706168b94');\n",
              "        const dataTable =\n",
              "          await google.colab.kernel.invokeFunction('convertToInteractive',\n",
              "                                                    [key], {});\n",
              "        if (!dataTable) return;\n",
              "\n",
              "        const docLinkHtml = 'Like what you see? Visit the ' +\n",
              "          '<a target=\"_blank\" href=https://colab.research.google.com/notebooks/data_table.ipynb>data table notebook</a>'\n",
              "          + ' to learn more about interactive tables.';\n",
              "        element.innerHTML = '';\n",
              "        dataTable['output_type'] = 'display_data';\n",
              "        await google.colab.output.renderOutput(dataTable, element);\n",
              "        const docLink = document.createElement('div');\n",
              "        docLink.innerHTML = docLinkHtml;\n",
              "        element.appendChild(docLink);\n",
              "      }\n",
              "    </script>\n",
              "  </div>\n",
              "\n",
              "\n",
              "<div id=\"df-6cc4b6a1-7e83-479f-9f37-b69af708d53e\">\n",
              "  <button class=\"colab-df-quickchart\" onclick=\"quickchart('df-6cc4b6a1-7e83-479f-9f37-b69af708d53e')\"\n",
              "            title=\"Suggest charts\"\n",
              "            style=\"display:none;\">\n",
              "\n",
              "<svg xmlns=\"http://www.w3.org/2000/svg\" height=\"24px\"viewBox=\"0 0 24 24\"\n",
              "     width=\"24px\">\n",
              "    <g>\n",
              "        <path d=\"M19 3H5c-1.1 0-2 .9-2 2v14c0 1.1.9 2 2 2h14c1.1 0 2-.9 2-2V5c0-1.1-.9-2-2-2zM9 17H7v-7h2v7zm4 0h-2V7h2v10zm4 0h-2v-4h2v4z\"/>\n",
              "    </g>\n",
              "</svg>\n",
              "  </button>\n",
              "\n",
              "<style>\n",
              "  .colab-df-quickchart {\n",
              "      --bg-color: #E8F0FE;\n",
              "      --fill-color: #1967D2;\n",
              "      --hover-bg-color: #E2EBFA;\n",
              "      --hover-fill-color: #174EA6;\n",
              "      --disabled-fill-color: #AAA;\n",
              "      --disabled-bg-color: #DDD;\n",
              "  }\n",
              "\n",
              "  [theme=dark] .colab-df-quickchart {\n",
              "      --bg-color: #3B4455;\n",
              "      --fill-color: #D2E3FC;\n",
              "      --hover-bg-color: #434B5C;\n",
              "      --hover-fill-color: #FFFFFF;\n",
              "      --disabled-bg-color: #3B4455;\n",
              "      --disabled-fill-color: #666;\n",
              "  }\n",
              "\n",
              "  .colab-df-quickchart {\n",
              "    background-color: var(--bg-color);\n",
              "    border: none;\n",
              "    border-radius: 50%;\n",
              "    cursor: pointer;\n",
              "    display: none;\n",
              "    fill: var(--fill-color);\n",
              "    height: 32px;\n",
              "    padding: 0;\n",
              "    width: 32px;\n",
              "  }\n",
              "\n",
              "  .colab-df-quickchart:hover {\n",
              "    background-color: var(--hover-bg-color);\n",
              "    box-shadow: 0 1px 2px rgba(60, 64, 67, 0.3), 0 1px 3px 1px rgba(60, 64, 67, 0.15);\n",
              "    fill: var(--button-hover-fill-color);\n",
              "  }\n",
              "\n",
              "  .colab-df-quickchart-complete:disabled,\n",
              "  .colab-df-quickchart-complete:disabled:hover {\n",
              "    background-color: var(--disabled-bg-color);\n",
              "    fill: var(--disabled-fill-color);\n",
              "    box-shadow: none;\n",
              "  }\n",
              "\n",
              "  .colab-df-spinner {\n",
              "    border: 2px solid var(--fill-color);\n",
              "    border-color: transparent;\n",
              "    border-bottom-color: var(--fill-color);\n",
              "    animation:\n",
              "      spin 1s steps(1) infinite;\n",
              "  }\n",
              "\n",
              "  @keyframes spin {\n",
              "    0% {\n",
              "      border-color: transparent;\n",
              "      border-bottom-color: var(--fill-color);\n",
              "      border-left-color: var(--fill-color);\n",
              "    }\n",
              "    20% {\n",
              "      border-color: transparent;\n",
              "      border-left-color: var(--fill-color);\n",
              "      border-top-color: var(--fill-color);\n",
              "    }\n",
              "    30% {\n",
              "      border-color: transparent;\n",
              "      border-left-color: var(--fill-color);\n",
              "      border-top-color: var(--fill-color);\n",
              "      border-right-color: var(--fill-color);\n",
              "    }\n",
              "    40% {\n",
              "      border-color: transparent;\n",
              "      border-right-color: var(--fill-color);\n",
              "      border-top-color: var(--fill-color);\n",
              "    }\n",
              "    60% {\n",
              "      border-color: transparent;\n",
              "      border-right-color: var(--fill-color);\n",
              "    }\n",
              "    80% {\n",
              "      border-color: transparent;\n",
              "      border-right-color: var(--fill-color);\n",
              "      border-bottom-color: var(--fill-color);\n",
              "    }\n",
              "    90% {\n",
              "      border-color: transparent;\n",
              "      border-bottom-color: var(--fill-color);\n",
              "    }\n",
              "  }\n",
              "</style>\n",
              "\n",
              "  <script>\n",
              "    async function quickchart(key) {\n",
              "      const quickchartButtonEl =\n",
              "        document.querySelector('#' + key + ' button');\n",
              "      quickchartButtonEl.disabled = true;  // To prevent multiple clicks.\n",
              "      quickchartButtonEl.classList.add('colab-df-spinner');\n",
              "      try {\n",
              "        const charts = await google.colab.kernel.invokeFunction(\n",
              "            'suggestCharts', [key], {});\n",
              "      } catch (error) {\n",
              "        console.error('Error during call to suggestCharts:', error);\n",
              "      }\n",
              "      quickchartButtonEl.classList.remove('colab-df-spinner');\n",
              "      quickchartButtonEl.classList.add('colab-df-quickchart-complete');\n",
              "    }\n",
              "    (() => {\n",
              "      let quickchartButtonEl =\n",
              "        document.querySelector('#df-6cc4b6a1-7e83-479f-9f37-b69af708d53e button');\n",
              "      quickchartButtonEl.style.display =\n",
              "        google.colab.kernel.accessAllowed ? 'block' : 'none';\n",
              "    })();\n",
              "  </script>\n",
              "</div>\n",
              "    </div>\n",
              "  </div>\n"
            ]
          },
          "metadata": {},
          "execution_count": 3
        }
      ]
    },
    {
      "cell_type": "markdown",
      "source": [
        "Now we can see all the columns of our dataset and their respective content. This is important, as it will help us to make some relevant decisions later."
      ],
      "metadata": {
        "id": "dsMBOEgcriEf"
      }
    },
    {
      "cell_type": "markdown",
      "source": [
        "## Visualize distribution of the feature of interest"
      ],
      "metadata": {
        "id": "Yh1SUQshW72v"
      }
    },
    {
      "cell_type": "markdown",
      "source": [
        "At this point, we are interested in finding out what is the distribution of the *Fraudolent* feature within our dataset. Specifically, we want to see how frequent fraudolent messages are compared to non-fraudolent messages."
      ],
      "metadata": {
        "id": "ogY54fSOr-qm"
      }
    },
    {
      "cell_type": "code",
      "source": [
        "# Select the column to analyze\n",
        "column_to_analyze = 'Fraudolent'\n",
        "\n",
        "# Create a distribution plot (histogram) to visualize the data\n",
        "plt.figure(figsize=(12, 8))\n",
        "sns.histplot(sms_df[column_to_analyze], kde=True, bins=30, color='skyblue')\n",
        "plt.title(f'Distribution of {column_to_analyze}')\n",
        "plt.xlabel(column_to_analyze)\n",
        "plt.ylabel('Frequency')\n",
        "plt.xticks([0, 1], ['Not Fraudolent', 'Fraudolent'])\n",
        "plt.grid(True)\n",
        "\n",
        "# Show the plot\n",
        "plt.show()"
      ],
      "metadata": {
        "id": "kCeK1IuifnmH",
        "colab": {
          "base_uri": "https://localhost:8080/",
          "height": 718
        },
        "outputId": "c9307832-c0ed-44e0-a576-0d02ab7b003c"
      },
      "execution_count": null,
      "outputs": [
        {
          "output_type": "display_data",
          "data": {
            "text/plain": [
              "<Figure size 1200x800 with 1 Axes>"
            ],
            "image/png": "[encoded data removed]"
          },
          "metadata": {}
        }
      ]
    },
    {
      "cell_type": "markdown",
      "source": [
        "From the graph above, we can clearly see that the number of fraudolent messages within our dataset is significantly lower compared to the number of non-fraudolent messages."
      ],
      "metadata": {
        "id": "9KH0VwMYsZwO"
      }
    },
    {
      "cell_type": "markdown",
      "source": [
        "## Features' analysis"
      ],
      "metadata": {
        "id": "5NzegxIXXJng"
      }
    },
    {
      "cell_type": "markdown",
      "source": [
        "When dealing with the dataset's features, we need to analyze the ones that we have already seen as columns, as well as the ones that we decided to add (more on this in the preprocessing section)."
      ],
      "metadata": {
        "id": "Y2h5gGcXsow_"
      }
    },
    {
      "cell_type": "markdown",
      "source": [
        "The first thing that we need to do is to create the additional features that we want to take into consideration. After that, we will analyze said features by creating graphs that will help us to visualize our data.\n"
      ],
      "metadata": {
        "id": "uIXlVl3wtXEp"
      }
    },
    {
      "cell_type": "code",
      "source": [
        "df = pd.DataFrame(sms_df)\n",
        "\n",
        "df['Text Length'] = df['SMS test'].apply(len)\n",
        "\n",
        "special_chars_lst = [\"$\",\"£\",\"%\",\"&\",\"/\",\"*\",\"#\",\"^\",\"+\",\"-\",\"@\", \"!\", \"?\"]\n",
        "df['Special Characters'] = df['SMS test'].apply(lambda x: sum(1 for char in x if char in special_chars_lst and not char.isalnum() and not char.isspace()))\n",
        "\n",
        "df['Num Uppercase'] = df['SMS test'].apply(lambda x: sum(1 for i, char in enumerate(x) if char.isupper() and (i == 0 or not x[i-1].isalpha())))\n",
        "\n",
        "df['Numeric Count'] = df['SMS test'].apply(lambda x: sum([1 for char in x if char.isnumeric()]))\n",
        "\n",
        "word_list = [\"won\",\"prize\", \"free\", \"award\", \"winner\", \"urgent\", \"win\", \"reward\", \"text\", \"call\", \"reply\"]\n",
        "\n",
        "df['Keywords Count'] = df['SMS test'].apply(lambda x: sum(1 for word in word_list if re.search(fr'\\b{word}\\b', x, flags=re.IGNORECASE)))\n"
      ],
      "metadata": {
        "id": "EKNo9O36lAhx"
      },
      "execution_count": null,
      "outputs": []
    },
    {
      "cell_type": "markdown",
      "source": [
        "### **Fraudolent & Text Length**"
      ],
      "metadata": {
        "id": "RHoQme-uv6YV"
      }
    },
    {
      "cell_type": "code",
      "source": [
        "plt.figure(figsize=(12, 8))\n",
        "plt.boxplot([df[df['Fraudolent'] == 0]['Text Length'], df[df['Fraudolent'] == 1]['Text Length']],\n",
        "            labels=['Not Fraudolent', 'Fraudolent'])\n",
        "plt.title('Boxplot between Fraudolent and Text Lenght')\n",
        "plt.xlabel('Fraudolent')\n",
        "plt.ylabel('Text Lenght')\n",
        "plt.show()"
      ],
      "metadata": {
        "id": "0llaMpqAhn_5",
        "colab": {
          "base_uri": "https://localhost:8080/",
          "height": 718
        },
        "outputId": "199abe74-15be-4091-ce93-62cf1003bfb6"
      },
      "execution_count": null,
      "outputs": [
        {
          "output_type": "display_data",
          "data": {
            "text/plain": [
              "<Figure size 1200x800 with 1 Axes>"
            ],
            "image/png": "[encoded data removed]"
          },
          "metadata": {}
        }
      ]
    },
    {
      "cell_type": "markdown",
      "source": [
        "As we can see, non-fraudolent messages are usually less longer than fraudolent messages. The median value of non-fraudolent messages is of about 50 characters. Fraudolent ones, instead, have a value which is slightly smaller than 200."
      ],
      "metadata": {
        "id": "TlpzS0l1uMXx"
      }
    },
    {
      "cell_type": "markdown",
      "source": [
        "### **Fraudolent & Special Characters**"
      ],
      "metadata": {
        "id": "4RhW8IgowF2T"
      }
    },
    {
      "cell_type": "code",
      "source": [
        "plt.figure(figsize=(10, 6))\n",
        "plt.boxplot([df[df['Fraudolent'] == 0]['Special Characters'], df[df['Fraudolent'] == 1]['Special Characters']],\n",
        "            labels=['Not Fraudolent', 'Fraudolent'])\n",
        "plt.title('Boxplot between Fraudolent and Special Characters')\n",
        "plt.xlabel('Fraudolent')\n",
        "plt.ylabel('Special Characters')\n",
        "plt.show()"
      ],
      "metadata": {
        "colab": {
          "base_uri": "https://localhost:8080/",
          "height": 564
        },
        "id": "hjPa3JS3bcOs",
        "outputId": "fb2e8f19-e2b4-4621-9821-85a0d3bed51b"
      },
      "execution_count": null,
      "outputs": [
        {
          "output_type": "display_data",
          "data": {
            "text/plain": [
              "<Figure size 1000x600 with 1 Axes>"
            ],
            "image/png": "[encoded data removed]"
          },
          "metadata": {}
        }
      ]
    },
    {
      "cell_type": "markdown",
      "source": [
        "As we can see, non-fraudolent messages usually contains less special characters (eg. \"$\",\"£\",\"%\",\"&\",\"/\",\"*\",\"#\",\"^\",\"+\",\"-\",\"@\", \"!\", \"?\") than fraudolent messages. The median value of non-fraudolent messages is of about 0 special characters. Fraudolent ones, instead, have a value which is of about 3 special characters."
      ],
      "metadata": {
        "id": "5oOi4wIswPDd"
      }
    },
    {
      "cell_type": "markdown",
      "source": [
        "### **Fraudolent & Num Uppercase**"
      ],
      "metadata": {
        "id": "klyMdqn3wwcw"
      }
    },
    {
      "cell_type": "code",
      "source": [
        "plt.figure(figsize=(10, 6))\n",
        "plt.boxplot([df[df['Fraudolent'] == 0]['Num Uppercase'], df[df['Fraudolent'] == 1]['Num Uppercase']],\n",
        "            labels=['Not Fraudolent', 'Fraudolent'])\n",
        "plt.title('Boxplot between Fraudolent and Num Uppercase')\n",
        "plt.xlabel('Fraudolent')\n",
        "plt.ylabel('Num Uppercase')\n",
        "plt.show()"
      ],
      "metadata": {
        "colab": {
          "base_uri": "https://localhost:8080/",
          "height": 564
        },
        "id": "GHpN3lgh61C9",
        "outputId": "73ce5c33-66ad-43dd-f38d-cc6a5a1b9313"
      },
      "execution_count": null,
      "outputs": [
        {
          "output_type": "display_data",
          "data": {
            "text/plain": [
              "<Figure size 1000x600 with 1 Axes>"
            ],
            "image/png": "[encoded data removed]"
          },
          "metadata": {}
        }
      ]
    },
    {
      "cell_type": "markdown",
      "source": [
        "As we can see, non-fraudolent messages usually contains less uppercase letters (specifically uppercase letters that are not the first letter of a word) than fraudolent messages. The median value of non-fraudolent messages is of about 3 characters. Fraudolent ones, instead, have a value which is of about 7."
      ],
      "metadata": {
        "id": "whkHQ6Few5cO"
      }
    },
    {
      "cell_type": "markdown",
      "source": [
        "### **Correlation**"
      ],
      "metadata": {
        "id": "1uyQpGXkycqB"
      }
    },
    {
      "cell_type": "markdown",
      "source": [
        "Now that we have gathered this information, it is useful to analyze the correlation between all of our features and the feature of interest (*Fraudolent*). In order to do so, we will employ a heatmap, which can be represented as follows:"
      ],
      "metadata": {
        "id": "xfKkml96yiPW"
      }
    },
    {
      "cell_type": "code",
      "source": [
        "sns.heatmap(sms_df.corr(), annot=True) #corr() -> gives pearson correlation of each column"
      ],
      "metadata": {
        "colab": {
          "base_uri": "https://localhost:8080/",
          "height": 624
        },
        "id": "DVvXjXm6cv5r",
        "outputId": "49fb62dc-efb5-4670-dba9-8ca04013f9dc"
      },
      "execution_count": null,
      "outputs": [
        {
          "output_type": "stream",
          "name": "stderr",
          "text": [
            "<ipython-input-9-14b17eac17c9>:1: FutureWarning: The default value of numeric_only in DataFrame.corr is deprecated. In a future version, it will default to False. Select only valid columns or specify the value of numeric_only to silence this warning.\n",
            "  sns.heatmap(sms_df.corr(), annot=True) #corr() -> gives pearson correlation of each column\n"
          ]
        },
        {
          "output_type": "execute_result",
          "data": {
            "text/plain": [
              "<Axes: >"
            ]
          },
          "metadata": {},
          "execution_count": 9
        },
        {
          "output_type": "display_data",
          "data": {
            "text/plain": [
              "<Figure size 640x480 with 2 Axes>"
            ],
            "image/png": "[encoded data removed]"
          },
          "metadata": {}
        }
      ]
    },
    {
      "cell_type": "markdown",
      "source": [
        "From the picture above, we can see that *Numeric Count* and *Keywords Count* are the features with the highest correlation to *Fraudolent* (for more details on the individual features, see the preprocessing section).\n",
        "\n",
        "In a previous version, there was a feature named *Year*, extracted from *Date and Time*, which was then excluded due to a correlation very close to 0."
      ],
      "metadata": {
        "id": "UFwGTXS1yq9P"
      }
    },
    {
      "cell_type": "markdown",
      "source": [
        "# **Preprocessing**"
      ],
      "metadata": {
        "id": "X4dhAREfZXqK"
      }
    },
    {
      "cell_type": "markdown",
      "source": [
        "## **1 - Missing values**\n",
        "We check for missing values within our dataset."
      ],
      "metadata": {
        "id": "1BbVoEPRZgr1"
      }
    },
    {
      "cell_type": "code",
      "source": [
        "#Check data integrity\n",
        "missing_values = sms_df.isnull().sum()\n",
        "\n",
        "# Display the count of missing values for each column\n",
        "print(\"Missing Values Summary:\")\n",
        "print(missing_values)"
      ],
      "metadata": {
        "id": "4oR5HPXNdrbR",
        "outputId": "05fcff2a-df04-4579-de2f-62223bffcd02",
        "colab": {
          "base_uri": "https://localhost:8080/"
        }
      },
      "execution_count": null,
      "outputs": [
        {
          "output_type": "stream",
          "name": "stdout",
          "text": [
            "Missing Values Summary:\n",
            "Fraudolent            0\n",
            "SMS test              0\n",
            "ID                    0\n",
            "Date and Time         0\n",
            "Text Length           0\n",
            "Special Characters    0\n",
            "Num Uppercase         0\n",
            "Numeric Count         0\n",
            "Keywords Count        0\n",
            "dtype: int64\n"
          ]
        }
      ]
    },
    {
      "cell_type": "markdown",
      "source": [
        "As we do not have any missing values, we can proceed further."
      ],
      "metadata": {
        "id": "9XEm4b8BZjpO"
      }
    },
    {
      "cell_type": "markdown",
      "source": [
        "## **2 - Feature selection and engineering**\n",
        "\n",
        "When working on a binary classification problem, it is important to identify the most relevant features for the task, starting from the ones provided by our dataset.\n",
        "\n",
        "After having analyzed the individual features and after having concluded the EDA, we can reach some important conclusions:\n",
        "\n",
        "\n",
        "*   **Regarding ID**: Considering that the ID is simply used in other to uniquely identify a specific text message, it does not provide any relevant information for classification purposes. Therefore, we can exclude this feature.\n",
        "\n",
        "*   **Regardind Date and Time**: This feature is also not particularly relevant as shown from the heatmap obtained in the EDA. Specifically, we can see that Fraudolent and Date and Time have in fact a correlation which is close to zero. For this reason, we will exclude this feature as well."
      ],
      "metadata": {
        "id": "KAbLp_p_a8zu"
      }
    },
    {
      "cell_type": "code",
      "source": [
        "# To exclude features we use the following piece of code\n",
        "\n",
        "sms_df = sms_df.drop(columns=['ID','Date and Time'])"
      ],
      "metadata": {
        "id": "dvXaJqzePIN9"
      },
      "execution_count": null,
      "outputs": []
    },
    {
      "cell_type": "code",
      "source": [
        "sms_df.head()"
      ],
      "metadata": {
        "colab": {
          "base_uri": "https://localhost:8080/",
          "height": 206
        },
        "id": "nBhkmeRaPilp",
        "outputId": "47e1a980-4b70-488d-f891-31da6122b565"
      },
      "execution_count": null,
      "outputs": [
        {
          "output_type": "execute_result",
          "data": {
            "text/plain": [
              "   Fraudolent                                           SMS test  Text Length  \\\n",
              "0           0  Squeeeeeze!! This is christmas hug.. If u lik ...          147   \n",
              "1           0  And also I've sorta blown him off a couple tim...          116   \n",
              "2           0  Mmm thats better now i got a roast down me! i...          102   \n",
              "3           0      Mm have some kanji dont eat anything heavy ok           45   \n",
              "4           0  So there's a ring that comes with the guys cos...          112   \n",
              "\n",
              "   Special Characters  Num Uppercase  Numeric Count  Keywords Count  \n",
              "0                   4              6              3               0  \n",
              "1                   0              2              0               1  \n",
              "2                   3              2              1               0  \n",
              "3                   0              1              0               0  \n",
              "4                   0              3              0               0  "
            ],
            "text/html": [
              "\n",
              "  <div id=\"df-834ae948-5a79-45f8-b072-ce58a1229da7\" class=\"colab-df-container\">\n",
              "    <div>\n",
              "<style scoped>\n",
              "    .dataframe tbody tr th:only-of-type {\n",
              "        vertical-align: middle;\n",
              "    }\n",
              "\n",
              "    .dataframe tbody tr th {\n",
              "        vertical-align: top;\n",
              "    }\n",
              "\n",
              "    .dataframe thead th {\n",
              "        text-align: right;\n",
              "    }\n",
              "</style>\n",
              "<table border=\"1\" class=\"dataframe\">\n",
              "  <thead>\n",
              "    <tr style=\"text-align: right;\">\n",
              "      <th></th>\n",
              "      <th>Fraudolent</th>\n",
              "      <th>SMS test</th>\n",
              "      <th>Text Length</th>\n",
              "      <th>Special Characters</th>\n",
              "      <th>Num Uppercase</th>\n",
              "      <th>Numeric Count</th>\n",
              "      <th>Keywords Count</th>\n",
              "    </tr>\n",
              "  </thead>\n",
              "  <tbody>\n",
              "    <tr>\n",
              "      <th>0</th>\n",
              "      <td>0</td>\n",
              "      <td>Squeeeeeze!! This is christmas hug.. If u lik ...</td>\n",
              "      <td>147</td>\n",
              "      <td>4</td>\n",
              "      <td>6</td>\n",
              "      <td>3</td>\n",
              "      <td>0</td>\n",
              "    </tr>\n",
              "    <tr>\n",
              "      <th>1</th>\n",
              "      <td>0</td>\n",
              "      <td>And also I've sorta blown him off a couple tim...</td>\n",
              "      <td>116</td>\n",
              "      <td>0</td>\n",
              "      <td>2</td>\n",
              "      <td>0</td>\n",
              "      <td>1</td>\n",
              "    </tr>\n",
              "    <tr>\n",
              "      <th>2</th>\n",
              "      <td>0</td>\n",
              "      <td>Mmm thats better now i got a roast down me! i...</td>\n",
              "      <td>102</td>\n",
              "      <td>3</td>\n",
              "      <td>2</td>\n",
              "      <td>1</td>\n",
              "      <td>0</td>\n",
              "    </tr>\n",
              "    <tr>\n",
              "      <th>3</th>\n",
              "      <td>0</td>\n",
              "      <td>Mm have some kanji dont eat anything heavy ok</td>\n",
              "      <td>45</td>\n",
              "      <td>0</td>\n",
              "      <td>1</td>\n",
              "      <td>0</td>\n",
              "      <td>0</td>\n",
              "    </tr>\n",
              "    <tr>\n",
              "      <th>4</th>\n",
              "      <td>0</td>\n",
              "      <td>So there's a ring that comes with the guys cos...</td>\n",
              "      <td>112</td>\n",
              "      <td>0</td>\n",
              "      <td>3</td>\n",
              "      <td>0</td>\n",
              "      <td>0</td>\n",
              "    </tr>\n",
              "  </tbody>\n",
              "</table>\n",
              "</div>\n",
              "    <div class=\"colab-df-buttons\">\n",
              "\n",
              "  <div class=\"colab-df-container\">\n",
              "    <button class=\"colab-df-convert\" onclick=\"convertToInteractive('df-834ae948-5a79-45f8-b072-ce58a1229da7')\"\n",
              "            title=\"Convert this dataframe to an interactive table.\"\n",
              "            style=\"display:none;\">\n",
              "\n",
              "  <svg xmlns=\"http://www.w3.org/2000/svg\" height=\"24px\" viewBox=\"0 -960 960 960\">\n",
              "    <path d=\"M120-120v-720h720v720H120Zm60-500h600v-160H180v160Zm220 220h160v-160H400v160Zm0 220h160v-160H400v160ZM180-400h160v-160H180v160Zm440 0h160v-160H620v160ZM180-180h160v-160H180v160Zm440 0h160v-160H620v160Z\"/>\n",
              "  </svg>\n",
              "    </button>\n",
              "\n",
              "  <style>\n",
              "    .colab-df-container {\n",
              "      display:flex;\n",
              "      gap: 12px;\n",
              "    }\n",
              "\n",
              "    .colab-df-convert {\n",
              "      background-color: #E8F0FE;\n",
              "      border: none;\n",
              "      border-radius: 50%;\n",
              "      cursor: pointer;\n",
              "      display: none;\n",
              "      fill: #1967D2;\n",
              "      height: 32px;\n",
              "      padding: 0 0 0 0;\n",
              "      width: 32px;\n",
              "    }\n",
              "\n",
              "    .colab-df-convert:hover {\n",
              "      background-color: #E2EBFA;\n",
              "      box-shadow: 0px 1px 2px rgba(60, 64, 67, 0.3), 0px 1px 3px 1px rgba(60, 64, 67, 0.15);\n",
              "      fill: #174EA6;\n",
              "    }\n",
              "\n",
              "    .colab-df-buttons div {\n",
              "      margin-bottom: 4px;\n",
              "    }\n",
              "\n",
              "    [theme=dark] .colab-df-convert {\n",
              "      background-color: #3B4455;\n",
              "      fill: #D2E3FC;\n",
              "    }\n",
              "\n",
              "    [theme=dark] .colab-df-convert:hover {\n",
              "      background-color: #434B5C;\n",
              "      box-shadow: 0px 1px 3px 1px rgba(0, 0, 0, 0.15);\n",
              "      filter: drop-shadow(0px 1px 2px rgba(0, 0, 0, 0.3));\n",
              "      fill: #FFFFFF;\n",
              "    }\n",
              "  </style>\n",
              "\n",
              "    <script>\n",
              "      const buttonEl =\n",
              "        document.querySelector('#df-834ae948-5a79-45f8-b072-ce58a1229da7 button.colab-df-convert');\n",
              "      buttonEl.style.display =\n",
              "        google.colab.kernel.accessAllowed ? 'block' : 'none';\n",
              "\n",
              "      async function convertToInteractive(key) {\n",
              "        const element = document.querySelector('#df-834ae948-5a79-45f8-b072-ce58a1229da7');\n",
              "        const dataTable =\n",
              "          await google.colab.kernel.invokeFunction('convertToInteractive',\n",
              "                                                    [key], {});\n",
              "        if (!dataTable) return;\n",
              "\n",
              "        const docLinkHtml = 'Like what you see? Visit the ' +\n",
              "          '<a target=\"_blank\" href=https://colab.research.google.com/notebooks/data_table.ipynb>data table notebook</a>'\n",
              "          + ' to learn more about interactive tables.';\n",
              "        element.innerHTML = '';\n",
              "        dataTable['output_type'] = 'display_data';\n",
              "        await google.colab.output.renderOutput(dataTable, element);\n",
              "        const docLink = document.createElement('div');\n",
              "        docLink.innerHTML = docLinkHtml;\n",
              "        element.appendChild(docLink);\n",
              "      }\n",
              "    </script>\n",
              "  </div>\n",
              "\n",
              "\n",
              "<div id=\"df-52b30d7c-23e5-46a3-8fb5-53b1455df6b2\">\n",
              "  <button class=\"colab-df-quickchart\" onclick=\"quickchart('df-52b30d7c-23e5-46a3-8fb5-53b1455df6b2')\"\n",
              "            title=\"Suggest charts\"\n",
              "            style=\"display:none;\">\n",
              "\n",
              "<svg xmlns=\"http://www.w3.org/2000/svg\" height=\"24px\"viewBox=\"0 0 24 24\"\n",
              "     width=\"24px\">\n",
              "    <g>\n",
              "        <path d=\"M19 3H5c-1.1 0-2 .9-2 2v14c0 1.1.9 2 2 2h14c1.1 0 2-.9 2-2V5c0-1.1-.9-2-2-2zM9 17H7v-7h2v7zm4 0h-2V7h2v10zm4 0h-2v-4h2v4z\"/>\n",
              "    </g>\n",
              "</svg>\n",
              "  </button>\n",
              "\n",
              "<style>\n",
              "  .colab-df-quickchart {\n",
              "      --bg-color: #E8F0FE;\n",
              "      --fill-color: #1967D2;\n",
              "      --hover-bg-color: #E2EBFA;\n",
              "      --hover-fill-color: #174EA6;\n",
              "      --disabled-fill-color: #AAA;\n",
              "      --disabled-bg-color: #DDD;\n",
              "  }\n",
              "\n",
              "  [theme=dark] .colab-df-quickchart {\n",
              "      --bg-color: #3B4455;\n",
              "      --fill-color: #D2E3FC;\n",
              "      --hover-bg-color: #434B5C;\n",
              "      --hover-fill-color: #FFFFFF;\n",
              "      --disabled-bg-color: #3B4455;\n",
              "      --disabled-fill-color: #666;\n",
              "  }\n",
              "\n",
              "  .colab-df-quickchart {\n",
              "    background-color: var(--bg-color);\n",
              "    border: none;\n",
              "    border-radius: 50%;\n",
              "    cursor: pointer;\n",
              "    display: none;\n",
              "    fill: var(--fill-color);\n",
              "    height: 32px;\n",
              "    padding: 0;\n",
              "    width: 32px;\n",
              "  }\n",
              "\n",
              "  .colab-df-quickchart:hover {\n",
              "    background-color: var(--hover-bg-color);\n",
              "    box-shadow: 0 1px 2px rgba(60, 64, 67, 0.3), 0 1px 3px 1px rgba(60, 64, 67, 0.15);\n",
              "    fill: var(--button-hover-fill-color);\n",
              "  }\n",
              "\n",
              "  .colab-df-quickchart-complete:disabled,\n",
              "  .colab-df-quickchart-complete:disabled:hover {\n",
              "    background-color: var(--disabled-bg-color);\n",
              "    fill: var(--disabled-fill-color);\n",
              "    box-shadow: none;\n",
              "  }\n",
              "\n",
              "  .colab-df-spinner {\n",
              "    border: 2px solid var(--fill-color);\n",
              "    border-color: transparent;\n",
              "    border-bottom-color: var(--fill-color);\n",
              "    animation:\n",
              "      spin 1s steps(1) infinite;\n",
              "  }\n",
              "\n",
              "  @keyframes spin {\n",
              "    0% {\n",
              "      border-color: transparent;\n",
              "      border-bottom-color: var(--fill-color);\n",
              "      border-left-color: var(--fill-color);\n",
              "    }\n",
              "    20% {\n",
              "      border-color: transparent;\n",
              "      border-left-color: var(--fill-color);\n",
              "      border-top-color: var(--fill-color);\n",
              "    }\n",
              "    30% {\n",
              "      border-color: transparent;\n",
              "      border-left-color: var(--fill-color);\n",
              "      border-top-color: var(--fill-color);\n",
              "      border-right-color: var(--fill-color);\n",
              "    }\n",
              "    40% {\n",
              "      border-color: transparent;\n",
              "      border-right-color: var(--fill-color);\n",
              "      border-top-color: var(--fill-color);\n",
              "    }\n",
              "    60% {\n",
              "      border-color: transparent;\n",
              "      border-right-color: var(--fill-color);\n",
              "    }\n",
              "    80% {\n",
              "      border-color: transparent;\n",
              "      border-right-color: var(--fill-color);\n",
              "      border-bottom-color: var(--fill-color);\n",
              "    }\n",
              "    90% {\n",
              "      border-color: transparent;\n",
              "      border-bottom-color: var(--fill-color);\n",
              "    }\n",
              "  }\n",
              "</style>\n",
              "\n",
              "  <script>\n",
              "    async function quickchart(key) {\n",
              "      const quickchartButtonEl =\n",
              "        document.querySelector('#' + key + ' button');\n",
              "      quickchartButtonEl.disabled = true;  // To prevent multiple clicks.\n",
              "      quickchartButtonEl.classList.add('colab-df-spinner');\n",
              "      try {\n",
              "        const charts = await google.colab.kernel.invokeFunction(\n",
              "            'suggestCharts', [key], {});\n",
              "      } catch (error) {\n",
              "        console.error('Error during call to suggestCharts:', error);\n",
              "      }\n",
              "      quickchartButtonEl.classList.remove('colab-df-spinner');\n",
              "      quickchartButtonEl.classList.add('colab-df-quickchart-complete');\n",
              "    }\n",
              "    (() => {\n",
              "      let quickchartButtonEl =\n",
              "        document.querySelector('#df-52b30d7c-23e5-46a3-8fb5-53b1455df6b2 button');\n",
              "      quickchartButtonEl.style.display =\n",
              "        google.colab.kernel.accessAllowed ? 'block' : 'none';\n",
              "    })();\n",
              "  </script>\n",
              "</div>\n",
              "    </div>\n",
              "  </div>\n"
            ]
          },
          "metadata": {},
          "execution_count": 12
        }
      ]
    },
    {
      "cell_type": "markdown",
      "source": [
        "Furthermore, to obtain some additional information which might be useful to properly classify text messages, we created some new features, which have already been shown during the EDA. In particular:\n",
        "\n",
        "*   **Text Length**: Measures the length of the message (in characters). Despite its not so strong correlation to the Fraudolent feature, we still believe it to be an interesting insight.\n",
        "\n",
        "*   **Special Characters**: Counts the number of special characters contained within a text message. While its correlation to the feature of interest is not so strong, it still is a relevant piece of information for the identification of fraudolent messages.\n",
        "\n",
        "*   **Num Uppercase**: Counts the total number of uppercase letters in a text message, excluding from the count the first letter of a word. This is because many fraudolent messages tend to incorporate the use of caps lock to stress some words which might pique the interest of the receiver (ex. *You WON a prize*). The correlation between this feature and the feature of interest - according to the heatmap - is not the strongest, but it could be a useful discriminant in the classification process.\n",
        "\n",
        "*   **Numeric Count**: Counts the number of numeric charactes found in the SMS. This is especially useful, as many fraudolent messages may ask the receiver to call or text a specific phone number. In fact, we can see that the correlation between Numeric Count and Fraudolent is very strong.\n",
        "\n",
        "*   **Keywords count**: Counts the number of instances in which specific keywords appear within the text, as specific wording choices are very typical of fraudolent message. As expected, it has a pretty strong correlation to the Fraudolent feature."
      ],
      "metadata": {
        "id": "_hAEKRgVPIsp"
      }
    },
    {
      "cell_type": "markdown",
      "source": [
        "## **3 - Text preprocessing**\n",
        "In this dataset, we are dealing with a lot of raw text. Because machine learning models can only work with numerical input features, we firstly need to convert this text into its numerical representation.\n",
        "However, before that, we have 'prepare' our text for the conversion. In order to do so, we will apply the following steps:"
      ],
      "metadata": {
        "id": "8knQdgOQZn1w"
      }
    },
    {
      "cell_type": "markdown",
      "source": [
        "### **Preparation - Dealing with unicode characters**\n",
        "Our dataset contains accents, diacritic marks and other 'special' symbols, that the machine has a hard time analyzing. Therefore, it is better to normalize the text first."
      ],
      "metadata": {
        "id": "fyyOdyw7G4jB"
      }
    },
    {
      "cell_type": "code",
      "source": [
        "def normalize_text(text):\n",
        "    normalized_text = unicodedata.normalize('NFKD', text).encode('ascii', 'ignore').decode('utf-8')\n",
        "    return normalized_text\n",
        "\n",
        "sms_df['SMS test'] = sms_df['SMS test'].apply(normalize_text)"
      ],
      "metadata": {
        "id": "bPnSKCveHgh3"
      },
      "execution_count": null,
      "outputs": []
    },
    {
      "cell_type": "markdown",
      "source": [
        "### **I - Remove URLs from text**\n",
        "The first step to make our text more uniform is to remove URLs. Basically, we are looking for *http*/*https* and *www*. The reason why we do this, even though URLs are often present in fraudolent message, is to make it so that our models will have less trouble when it comes to generalization."
      ],
      "metadata": {
        "id": "Oi8cevud8TE3"
      }
    },
    {
      "cell_type": "code",
      "source": [
        "# Function to remove URLs from text\n",
        "def remove_urls(text):\n",
        "    url_pattern = re.compile(r'https?://\\S+|www\\.\\S+')\n",
        "    return url_pattern.sub(r'', text)\n",
        "\n",
        "# Apply URL removal to the 'SMS_text' column\n",
        "sms_df['SMS test'] = sms_df['SMS test'].apply(remove_urls)"
      ],
      "metadata": {
        "id": "f4a-QERH54Rb"
      },
      "execution_count": null,
      "outputs": []
    },
    {
      "cell_type": "markdown",
      "source": [
        "### **II - Tokenization**\n",
        "Our goal at this point is very simple: we want to normalize the text data contained in our SMS test column. In order to do so, it would be better to decompose the content of these various text messages into smaller and more digestible bits. This is exactly what we are doing with tokenization: we are breaking the text into smaller units - known as tokens - that can be individually analyzed and worked with."
      ],
      "metadata": {
        "id": "jjx5-aVB9PiB"
      }
    },
    {
      "cell_type": "code",
      "source": [
        "sms_df['SMS test'] = sms_df['SMS test'].apply(word_tokenize)"
      ],
      "metadata": {
        "id": "9q0L0Bt-mulh"
      },
      "execution_count": null,
      "outputs": []
    },
    {
      "cell_type": "markdown",
      "source": [
        "### **III - Lower Casing**\n",
        "As the name suggests, this first step has one simple purpose: converting all the text data into lower case. The reason why we do this is to make the text uniform, so that the machine can properly take in all the words provided. Otherwise, words such has *Urgent* and *URGENT* would be considered as different entities.\n"
      ],
      "metadata": {
        "id": "jZseyb9g7y2f"
      }
    },
    {
      "cell_type": "code",
      "source": [
        "sms_df['SMS test'] = sms_df['SMS test'].apply(lambda x: [word.lower() for word in x])"
      ],
      "metadata": {
        "id": "3Pj4tWLdI-EL"
      },
      "execution_count": null,
      "outputs": []
    },
    {
      "cell_type": "markdown",
      "source": [
        "### **IV - Punctuation and special symbols removal**\n",
        "Now, we are interested in removing punctuation marks and special symbols. The reason for this is always the same: we want to standardize our text."
      ],
      "metadata": {
        "id": "VzxDPvgA_Dyy"
      }
    },
    {
      "cell_type": "code",
      "source": [
        "sms_df['SMS test'] = sms_df['SMS test'].apply(lambda x: [word for word in x if word.isalnum()])"
      ],
      "metadata": {
        "id": "aA4nU6rMRvb8"
      },
      "execution_count": null,
      "outputs": []
    },
    {
      "cell_type": "markdown",
      "source": [
        "### **V - Stopwords removal**\n",
        "Stopwords are defined as a set of commonly used words in a language, such as *a*, *the*, *is*, *are* and so on. Because they do not carry significant information, it is better to remove them.\n"
      ],
      "metadata": {
        "id": "MfqVI2XzbnDT"
      }
    },
    {
      "cell_type": "code",
      "source": [
        "stop_words = set(stopwords.words('english'))\n",
        "sms_df['SMS test'] = sms_df['SMS test'].apply(lambda x: [word for word in x if word not in stop_words])"
      ],
      "metadata": {
        "id": "57-Qm24CxCEh"
      },
      "execution_count": null,
      "outputs": []
    },
    {
      "cell_type": "markdown",
      "source": [
        "### **VI - Stemming**\n",
        "Stemming refers to a process of text standardization, which turns words into their base stem. For example, the stem of *connecting*, *connections* and *connected* is *connect*. It is important in order to lower the dimensionality of our feature and to overall improve generalization."
      ],
      "metadata": {
        "id": "tNEZEYgZfoc2"
      }
    },
    {
      "cell_type": "code",
      "source": [
        "stemmer = PorterStemmer()\n",
        "sms_df['SMS test'] = sms_df['SMS test'].apply(lambda x: [stemmer.stem(word) for word in x])"
      ],
      "metadata": {
        "id": "0ipPHyB4xQWE"
      },
      "execution_count": null,
      "outputs": []
    },
    {
      "cell_type": "code",
      "source": [
        "sms_df.head()"
      ],
      "metadata": {
        "colab": {
          "base_uri": "https://localhost:8080/",
          "height": 206
        },
        "id": "EDBs0L5yNFdK",
        "outputId": "9bf0b8b4-406b-4cbb-8ce2-882be62e72da"
      },
      "execution_count": null,
      "outputs": [
        {
          "output_type": "execute_result",
          "data": {
            "text/plain": [
              "   Fraudolent                                           SMS test  Text Length  \\\n",
              "0           0  [squeeeeez, christma, hug, u, lik, frndshp, de...          147   \n",
              "1           0  [also, sorta, blown, coupl, time, recent, id, ...          116   \n",
              "2           0  [mmm, that, better, got, roast, id, b, better,...          102   \n",
              "3           0           [mm, kanji, dont, eat, anyth, heavi, ok]           45   \n",
              "4           0  [ring, come, guy, costum, gift, futur, yowif, ...          112   \n",
              "\n",
              "   Special Characters  Num Uppercase  Numeric Count  Keywords Count  \n",
              "0                   4              6              3               0  \n",
              "1                   0              2              0               1  \n",
              "2                   3              2              1               0  \n",
              "3                   0              1              0               0  \n",
              "4                   0              3              0               0  "
            ],
            "text/html": [
              "\n",
              "  <div id=\"df-e1827b56-6345-48dc-a9e8-96dbd91dadeb\" class=\"colab-df-container\">\n",
              "    <div>\n",
              "<style scoped>\n",
              "    .dataframe tbody tr th:only-of-type {\n",
              "        vertical-align: middle;\n",
              "    }\n",
              "\n",
              "    .dataframe tbody tr th {\n",
              "        vertical-align: top;\n",
              "    }\n",
              "\n",
              "    .dataframe thead th {\n",
              "        text-align: right;\n",
              "    }\n",
              "</style>\n",
              "<table border=\"1\" class=\"dataframe\">\n",
              "  <thead>\n",
              "    <tr style=\"text-align: right;\">\n",
              "      <th></th>\n",
              "      <th>Fraudolent</th>\n",
              "      <th>SMS test</th>\n",
              "      <th>Text Length</th>\n",
              "      <th>Special Characters</th>\n",
              "      <th>Num Uppercase</th>\n",
              "      <th>Numeric Count</th>\n",
              "      <th>Keywords Count</th>\n",
              "    </tr>\n",
              "  </thead>\n",
              "  <tbody>\n",
              "    <tr>\n",
              "      <th>0</th>\n",
              "      <td>0</td>\n",
              "      <td>[squeeeeez, christma, hug, u, lik, frndshp, de...</td>\n",
              "      <td>147</td>\n",
              "      <td>4</td>\n",
              "      <td>6</td>\n",
              "      <td>3</td>\n",
              "      <td>0</td>\n",
              "    </tr>\n",
              "    <tr>\n",
              "      <th>1</th>\n",
              "      <td>0</td>\n",
              "      <td>[also, sorta, blown, coupl, time, recent, id, ...</td>\n",
              "      <td>116</td>\n",
              "      <td>0</td>\n",
              "      <td>2</td>\n",
              "      <td>0</td>\n",
              "      <td>1</td>\n",
              "    </tr>\n",
              "    <tr>\n",
              "      <th>2</th>\n",
              "      <td>0</td>\n",
              "      <td>[mmm, that, better, got, roast, id, b, better,...</td>\n",
              "      <td>102</td>\n",
              "      <td>3</td>\n",
              "      <td>2</td>\n",
              "      <td>1</td>\n",
              "      <td>0</td>\n",
              "    </tr>\n",
              "    <tr>\n",
              "      <th>3</th>\n",
              "      <td>0</td>\n",
              "      <td>[mm, kanji, dont, eat, anyth, heavi, ok]</td>\n",
              "      <td>45</td>\n",
              "      <td>0</td>\n",
              "      <td>1</td>\n",
              "      <td>0</td>\n",
              "      <td>0</td>\n",
              "    </tr>\n",
              "    <tr>\n",
              "      <th>4</th>\n",
              "      <td>0</td>\n",
              "      <td>[ring, come, guy, costum, gift, futur, yowif, ...</td>\n",
              "      <td>112</td>\n",
              "      <td>0</td>\n",
              "      <td>3</td>\n",
              "      <td>0</td>\n",
              "      <td>0</td>\n",
              "    </tr>\n",
              "  </tbody>\n",
              "</table>\n",
              "</div>\n",
              "    <div class=\"colab-df-buttons\">\n",
              "\n",
              "  <div class=\"colab-df-container\">\n",
              "    <button class=\"colab-df-convert\" onclick=\"convertToInteractive('df-e1827b56-6345-48dc-a9e8-96dbd91dadeb')\"\n",
              "            title=\"Convert this dataframe to an interactive table.\"\n",
              "            style=\"display:none;\">\n",
              "\n",
              "  <svg xmlns=\"http://www.w3.org/2000/svg\" height=\"24px\" viewBox=\"0 -960 960 960\">\n",
              "    <path d=\"M120-120v-720h720v720H120Zm60-500h600v-160H180v160Zm220 220h160v-160H400v160Zm0 220h160v-160H400v160ZM180-400h160v-160H180v160Zm440 0h160v-160H620v160ZM180-180h160v-160H180v160Zm440 0h160v-160H620v160Z\"/>\n",
              "  </svg>\n",
              "    </button>\n",
              "\n",
              "  <style>\n",
              "    .colab-df-container {\n",
              "      display:flex;\n",
              "      gap: 12px;\n",
              "    }\n",
              "\n",
              "    .colab-df-convert {\n",
              "      background-color: #E8F0FE;\n",
              "      border: none;\n",
              "      border-radius: 50%;\n",
              "      cursor: pointer;\n",
              "      display: none;\n",
              "      fill: #1967D2;\n",
              "      height: 32px;\n",
              "      padding: 0 0 0 0;\n",
              "      width: 32px;\n",
              "    }\n",
              "\n",
              "    .colab-df-convert:hover {\n",
              "      background-color: #E2EBFA;\n",
              "      box-shadow: 0px 1px 2px rgba(60, 64, 67, 0.3), 0px 1px 3px 1px rgba(60, 64, 67, 0.15);\n",
              "      fill: #174EA6;\n",
              "    }\n",
              "\n",
              "    .colab-df-buttons div {\n",
              "      margin-bottom: 4px;\n",
              "    }\n",
              "\n",
              "    [theme=dark] .colab-df-convert {\n",
              "      background-color: #3B4455;\n",
              "      fill: #D2E3FC;\n",
              "    }\n",
              "\n",
              "    [theme=dark] .colab-df-convert:hover {\n",
              "      background-color: #434B5C;\n",
              "      box-shadow: 0px 1px 3px 1px rgba(0, 0, 0, 0.15);\n",
              "      filter: drop-shadow(0px 1px 2px rgba(0, 0, 0, 0.3));\n",
              "      fill: #FFFFFF;\n",
              "    }\n",
              "  </style>\n",
              "\n",
              "    <script>\n",
              "      const buttonEl =\n",
              "        document.querySelector('#df-e1827b56-6345-48dc-a9e8-96dbd91dadeb button.colab-df-convert');\n",
              "      buttonEl.style.display =\n",
              "        google.colab.kernel.accessAllowed ? 'block' : 'none';\n",
              "\n",
              "      async function convertToInteractive(key) {\n",
              "        const element = document.querySelector('#df-e1827b56-6345-48dc-a9e8-96dbd91dadeb');\n",
              "        const dataTable =\n",
              "          await google.colab.kernel.invokeFunction('convertToInteractive',\n",
              "                                                    [key], {});\n",
              "        if (!dataTable) return;\n",
              "\n",
              "        const docLinkHtml = 'Like what you see? Visit the ' +\n",
              "          '<a target=\"_blank\" href=https://colab.research.google.com/notebooks/data_table.ipynb>data table notebook</a>'\n",
              "          + ' to learn more about interactive tables.';\n",
              "        element.innerHTML = '';\n",
              "        dataTable['output_type'] = 'display_data';\n",
              "        await google.colab.output.renderOutput(dataTable, element);\n",
              "        const docLink = document.createElement('div');\n",
              "        docLink.innerHTML = docLinkHtml;\n",
              "        element.appendChild(docLink);\n",
              "      }\n",
              "    </script>\n",
              "  </div>\n",
              "\n",
              "\n",
              "<div id=\"df-8d52ce46-8881-4b71-9cf2-ce2326c40228\">\n",
              "  <button class=\"colab-df-quickchart\" onclick=\"quickchart('df-8d52ce46-8881-4b71-9cf2-ce2326c40228')\"\n",
              "            title=\"Suggest charts\"\n",
              "            style=\"display:none;\">\n",
              "\n",
              "<svg xmlns=\"http://www.w3.org/2000/svg\" height=\"24px\"viewBox=\"0 0 24 24\"\n",
              "     width=\"24px\">\n",
              "    <g>\n",
              "        <path d=\"M19 3H5c-1.1 0-2 .9-2 2v14c0 1.1.9 2 2 2h14c1.1 0 2-.9 2-2V5c0-1.1-.9-2-2-2zM9 17H7v-7h2v7zm4 0h-2V7h2v10zm4 0h-2v-4h2v4z\"/>\n",
              "    </g>\n",
              "</svg>\n",
              "  </button>\n",
              "\n",
              "<style>\n",
              "  .colab-df-quickchart {\n",
              "      --bg-color: #E8F0FE;\n",
              "      --fill-color: #1967D2;\n",
              "      --hover-bg-color: #E2EBFA;\n",
              "      --hover-fill-color: #174EA6;\n",
              "      --disabled-fill-color: #AAA;\n",
              "      --disabled-bg-color: #DDD;\n",
              "  }\n",
              "\n",
              "  [theme=dark] .colab-df-quickchart {\n",
              "      --bg-color: #3B4455;\n",
              "      --fill-color: #D2E3FC;\n",
              "      --hover-bg-color: #434B5C;\n",
              "      --hover-fill-color: #FFFFFF;\n",
              "      --disabled-bg-color: #3B4455;\n",
              "      --disabled-fill-color: #666;\n",
              "  }\n",
              "\n",
              "  .colab-df-quickchart {\n",
              "    background-color: var(--bg-color);\n",
              "    border: none;\n",
              "    border-radius: 50%;\n",
              "    cursor: pointer;\n",
              "    display: none;\n",
              "    fill: var(--fill-color);\n",
              "    height: 32px;\n",
              "    padding: 0;\n",
              "    width: 32px;\n",
              "  }\n",
              "\n",
              "  .colab-df-quickchart:hover {\n",
              "    background-color: var(--hover-bg-color);\n",
              "    box-shadow: 0 1px 2px rgba(60, 64, 67, 0.3), 0 1px 3px 1px rgba(60, 64, 67, 0.15);\n",
              "    fill: var(--button-hover-fill-color);\n",
              "  }\n",
              "\n",
              "  .colab-df-quickchart-complete:disabled,\n",
              "  .colab-df-quickchart-complete:disabled:hover {\n",
              "    background-color: var(--disabled-bg-color);\n",
              "    fill: var(--disabled-fill-color);\n",
              "    box-shadow: none;\n",
              "  }\n",
              "\n",
              "  .colab-df-spinner {\n",
              "    border: 2px solid var(--fill-color);\n",
              "    border-color: transparent;\n",
              "    border-bottom-color: var(--fill-color);\n",
              "    animation:\n",
              "      spin 1s steps(1) infinite;\n",
              "  }\n",
              "\n",
              "  @keyframes spin {\n",
              "    0% {\n",
              "      border-color: transparent;\n",
              "      border-bottom-color: var(--fill-color);\n",
              "      border-left-color: var(--fill-color);\n",
              "    }\n",
              "    20% {\n",
              "      border-color: transparent;\n",
              "      border-left-color: var(--fill-color);\n",
              "      border-top-color: var(--fill-color);\n",
              "    }\n",
              "    30% {\n",
              "      border-color: transparent;\n",
              "      border-left-color: var(--fill-color);\n",
              "      border-top-color: var(--fill-color);\n",
              "      border-right-color: var(--fill-color);\n",
              "    }\n",
              "    40% {\n",
              "      border-color: transparent;\n",
              "      border-right-color: var(--fill-color);\n",
              "      border-top-color: var(--fill-color);\n",
              "    }\n",
              "    60% {\n",
              "      border-color: transparent;\n",
              "      border-right-color: var(--fill-color);\n",
              "    }\n",
              "    80% {\n",
              "      border-color: transparent;\n",
              "      border-right-color: var(--fill-color);\n",
              "      border-bottom-color: var(--fill-color);\n",
              "    }\n",
              "    90% {\n",
              "      border-color: transparent;\n",
              "      border-bottom-color: var(--fill-color);\n",
              "    }\n",
              "  }\n",
              "</style>\n",
              "\n",
              "  <script>\n",
              "    async function quickchart(key) {\n",
              "      const quickchartButtonEl =\n",
              "        document.querySelector('#' + key + ' button');\n",
              "      quickchartButtonEl.disabled = true;  // To prevent multiple clicks.\n",
              "      quickchartButtonEl.classList.add('colab-df-spinner');\n",
              "      try {\n",
              "        const charts = await google.colab.kernel.invokeFunction(\n",
              "            'suggestCharts', [key], {});\n",
              "      } catch (error) {\n",
              "        console.error('Error during call to suggestCharts:', error);\n",
              "      }\n",
              "      quickchartButtonEl.classList.remove('colab-df-spinner');\n",
              "      quickchartButtonEl.classList.add('colab-df-quickchart-complete');\n",
              "    }\n",
              "    (() => {\n",
              "      let quickchartButtonEl =\n",
              "        document.querySelector('#df-8d52ce46-8881-4b71-9cf2-ce2326c40228 button');\n",
              "      quickchartButtonEl.style.display =\n",
              "        google.colab.kernel.accessAllowed ? 'block' : 'none';\n",
              "    })();\n",
              "  </script>\n",
              "</div>\n",
              "    </div>\n",
              "  </div>\n"
            ]
          },
          "metadata": {},
          "execution_count": 20
        }
      ]
    },
    {
      "cell_type": "markdown",
      "source": [
        "### **VII - 'De-tokenize' our data**\n",
        "Thanks to all the steps taken until now, we have been able to normalize the text. However, we will soon employ certain tools, which are not able to work with tokens. Therefore, we need to convert everything back to raw text."
      ],
      "metadata": {
        "id": "55kw8RMfJuhj"
      }
    },
    {
      "cell_type": "code",
      "source": [
        "sms_df['SMS test'] = sms_df['SMS test'].apply(lambda x: ' '.join(x))"
      ],
      "metadata": {
        "id": "QAoGzDiAIlZ9"
      },
      "execution_count": null,
      "outputs": []
    },
    {
      "cell_type": "code",
      "source": [
        "sms_df.head()"
      ],
      "metadata": {
        "colab": {
          "base_uri": "https://localhost:8080/",
          "height": 206
        },
        "id": "bXJjS7EFJWyT",
        "outputId": "4412abf7-12ce-4a82-a4fa-9245480436e8"
      },
      "execution_count": null,
      "outputs": [
        {
          "output_type": "execute_result",
          "data": {
            "text/plain": [
              "   Fraudolent                                           SMS test  Text Length  \\\n",
              "0           0  squeeeeez christma hug u lik frndshp den hug b...          147   \n",
              "1           0  also sorta blown coupl time recent id rather t...          116   \n",
              "2           0  mmm that better got roast id b better drink 2 ...          102   \n",
              "3           0                   mm kanji dont eat anyth heavi ok           45   \n",
              "4           0    ring come guy costum gift futur yowif hint hint          112   \n",
              "\n",
              "   Special Characters  Num Uppercase  Numeric Count  Keywords Count  \n",
              "0                   4              6              3               0  \n",
              "1                   0              2              0               1  \n",
              "2                   3              2              1               0  \n",
              "3                   0              1              0               0  \n",
              "4                   0              3              0               0  "
            ],
            "text/html": [
              "\n",
              "  <div id=\"df-f069fa6b-90dc-40fc-a552-5e8e55fcf523\" class=\"colab-df-container\">\n",
              "    <div>\n",
              "<style scoped>\n",
              "    .dataframe tbody tr th:only-of-type {\n",
              "        vertical-align: middle;\n",
              "    }\n",
              "\n",
              "    .dataframe tbody tr th {\n",
              "        vertical-align: top;\n",
              "    }\n",
              "\n",
              "    .dataframe thead th {\n",
              "        text-align: right;\n",
              "    }\n",
              "</style>\n",
              "<table border=\"1\" class=\"dataframe\">\n",
              "  <thead>\n",
              "    <tr style=\"text-align: right;\">\n",
              "      <th></th>\n",
              "      <th>Fraudolent</th>\n",
              "      <th>SMS test</th>\n",
              "      <th>Text Length</th>\n",
              "      <th>Special Characters</th>\n",
              "      <th>Num Uppercase</th>\n",
              "      <th>Numeric Count</th>\n",
              "      <th>Keywords Count</th>\n",
              "    </tr>\n",
              "  </thead>\n",
              "  <tbody>\n",
              "    <tr>\n",
              "      <th>0</th>\n",
              "      <td>0</td>\n",
              "      <td>squeeeeez christma hug u lik frndshp den hug b...</td>\n",
              "      <td>147</td>\n",
              "      <td>4</td>\n",
              "      <td>6</td>\n",
              "      <td>3</td>\n",
              "      <td>0</td>\n",
              "    </tr>\n",
              "    <tr>\n",
              "      <th>1</th>\n",
              "      <td>0</td>\n",
              "      <td>also sorta blown coupl time recent id rather t...</td>\n",
              "      <td>116</td>\n",
              "      <td>0</td>\n",
              "      <td>2</td>\n",
              "      <td>0</td>\n",
              "      <td>1</td>\n",
              "    </tr>\n",
              "    <tr>\n",
              "      <th>2</th>\n",
              "      <td>0</td>\n",
              "      <td>mmm that better got roast id b better drink 2 ...</td>\n",
              "      <td>102</td>\n",
              "      <td>3</td>\n",
              "      <td>2</td>\n",
              "      <td>1</td>\n",
              "      <td>0</td>\n",
              "    </tr>\n",
              "    <tr>\n",
              "      <th>3</th>\n",
              "      <td>0</td>\n",
              "      <td>mm kanji dont eat anyth heavi ok</td>\n",
              "      <td>45</td>\n",
              "      <td>0</td>\n",
              "      <td>1</td>\n",
              "      <td>0</td>\n",
              "      <td>0</td>\n",
              "    </tr>\n",
              "    <tr>\n",
              "      <th>4</th>\n",
              "      <td>0</td>\n",
              "      <td>ring come guy costum gift futur yowif hint hint</td>\n",
              "      <td>112</td>\n",
              "      <td>0</td>\n",
              "      <td>3</td>\n",
              "      <td>0</td>\n",
              "      <td>0</td>\n",
              "    </tr>\n",
              "  </tbody>\n",
              "</table>\n",
              "</div>\n",
              "    <div class=\"colab-df-buttons\">\n",
              "\n",
              "  <div class=\"colab-df-container\">\n",
              "    <button class=\"colab-df-convert\" onclick=\"convertToInteractive('df-f069fa6b-90dc-40fc-a552-5e8e55fcf523')\"\n",
              "            title=\"Convert this dataframe to an interactive table.\"\n",
              "            style=\"display:none;\">\n",
              "\n",
              "  <svg xmlns=\"http://www.w3.org/2000/svg\" height=\"24px\" viewBox=\"0 -960 960 960\">\n",
              "    <path d=\"M120-120v-720h720v720H120Zm60-500h600v-160H180v160Zm220 220h160v-160H400v160Zm0 220h160v-160H400v160ZM180-400h160v-160H180v160Zm440 0h160v-160H620v160ZM180-180h160v-160H180v160Zm440 0h160v-160H620v160Z\"/>\n",
              "  </svg>\n",
              "    </button>\n",
              "\n",
              "  <style>\n",
              "    .colab-df-container {\n",
              "      display:flex;\n",
              "      gap: 12px;\n",
              "    }\n",
              "\n",
              "    .colab-df-convert {\n",
              "      background-color: #E8F0FE;\n",
              "      border: none;\n",
              "      border-radius: 50%;\n",
              "      cursor: pointer;\n",
              "      display: none;\n",
              "      fill: #1967D2;\n",
              "      height: 32px;\n",
              "      padding: 0 0 0 0;\n",
              "      width: 32px;\n",
              "    }\n",
              "\n",
              "    .colab-df-convert:hover {\n",
              "      background-color: #E2EBFA;\n",
              "      box-shadow: 0px 1px 2px rgba(60, 64, 67, 0.3), 0px 1px 3px 1px rgba(60, 64, 67, 0.15);\n",
              "      fill: #174EA6;\n",
              "    }\n",
              "\n",
              "    .colab-df-buttons div {\n",
              "      margin-bottom: 4px;\n",
              "    }\n",
              "\n",
              "    [theme=dark] .colab-df-convert {\n",
              "      background-color: #3B4455;\n",
              "      fill: #D2E3FC;\n",
              "    }\n",
              "\n",
              "    [theme=dark] .colab-df-convert:hover {\n",
              "      background-color: #434B5C;\n",
              "      box-shadow: 0px 1px 3px 1px rgba(0, 0, 0, 0.15);\n",
              "      filter: drop-shadow(0px 1px 2px rgba(0, 0, 0, 0.3));\n",
              "      fill: #FFFFFF;\n",
              "    }\n",
              "  </style>\n",
              "\n",
              "    <script>\n",
              "      const buttonEl =\n",
              "        document.querySelector('#df-f069fa6b-90dc-40fc-a552-5e8e55fcf523 button.colab-df-convert');\n",
              "      buttonEl.style.display =\n",
              "        google.colab.kernel.accessAllowed ? 'block' : 'none';\n",
              "\n",
              "      async function convertToInteractive(key) {\n",
              "        const element = document.querySelector('#df-f069fa6b-90dc-40fc-a552-5e8e55fcf523');\n",
              "        const dataTable =\n",
              "          await google.colab.kernel.invokeFunction('convertToInteractive',\n",
              "                                                    [key], {});\n",
              "        if (!dataTable) return;\n",
              "\n",
              "        const docLinkHtml = 'Like what you see? Visit the ' +\n",
              "          '<a target=\"_blank\" href=https://colab.research.google.com/notebooks/data_table.ipynb>data table notebook</a>'\n",
              "          + ' to learn more about interactive tables.';\n",
              "        element.innerHTML = '';\n",
              "        dataTable['output_type'] = 'display_data';\n",
              "        await google.colab.output.renderOutput(dataTable, element);\n",
              "        const docLink = document.createElement('div');\n",
              "        docLink.innerHTML = docLinkHtml;\n",
              "        element.appendChild(docLink);\n",
              "      }\n",
              "    </script>\n",
              "  </div>\n",
              "\n",
              "\n",
              "<div id=\"df-6bf60877-ea3d-4e32-8078-437c82196459\">\n",
              "  <button class=\"colab-df-quickchart\" onclick=\"quickchart('df-6bf60877-ea3d-4e32-8078-437c82196459')\"\n",
              "            title=\"Suggest charts\"\n",
              "            style=\"display:none;\">\n",
              "\n",
              "<svg xmlns=\"http://www.w3.org/2000/svg\" height=\"24px\"viewBox=\"0 0 24 24\"\n",
              "     width=\"24px\">\n",
              "    <g>\n",
              "        <path d=\"M19 3H5c-1.1 0-2 .9-2 2v14c0 1.1.9 2 2 2h14c1.1 0 2-.9 2-2V5c0-1.1-.9-2-2-2zM9 17H7v-7h2v7zm4 0h-2V7h2v10zm4 0h-2v-4h2v4z\"/>\n",
              "    </g>\n",
              "</svg>\n",
              "  </button>\n",
              "\n",
              "<style>\n",
              "  .colab-df-quickchart {\n",
              "      --bg-color: #E8F0FE;\n",
              "      --fill-color: #1967D2;\n",
              "      --hover-bg-color: #E2EBFA;\n",
              "      --hover-fill-color: #174EA6;\n",
              "      --disabled-fill-color: #AAA;\n",
              "      --disabled-bg-color: #DDD;\n",
              "  }\n",
              "\n",
              "  [theme=dark] .colab-df-quickchart {\n",
              "      --bg-color: #3B4455;\n",
              "      --fill-color: #D2E3FC;\n",
              "      --hover-bg-color: #434B5C;\n",
              "      --hover-fill-color: #FFFFFF;\n",
              "      --disabled-bg-color: #3B4455;\n",
              "      --disabled-fill-color: #666;\n",
              "  }\n",
              "\n",
              "  .colab-df-quickchart {\n",
              "    background-color: var(--bg-color);\n",
              "    border: none;\n",
              "    border-radius: 50%;\n",
              "    cursor: pointer;\n",
              "    display: none;\n",
              "    fill: var(--fill-color);\n",
              "    height: 32px;\n",
              "    padding: 0;\n",
              "    width: 32px;\n",
              "  }\n",
              "\n",
              "  .colab-df-quickchart:hover {\n",
              "    background-color: var(--hover-bg-color);\n",
              "    box-shadow: 0 1px 2px rgba(60, 64, 67, 0.3), 0 1px 3px 1px rgba(60, 64, 67, 0.15);\n",
              "    fill: var(--button-hover-fill-color);\n",
              "  }\n",
              "\n",
              "  .colab-df-quickchart-complete:disabled,\n",
              "  .colab-df-quickchart-complete:disabled:hover {\n",
              "    background-color: var(--disabled-bg-color);\n",
              "    fill: var(--disabled-fill-color);\n",
              "    box-shadow: none;\n",
              "  }\n",
              "\n",
              "  .colab-df-spinner {\n",
              "    border: 2px solid var(--fill-color);\n",
              "    border-color: transparent;\n",
              "    border-bottom-color: var(--fill-color);\n",
              "    animation:\n",
              "      spin 1s steps(1) infinite;\n",
              "  }\n",
              "\n",
              "  @keyframes spin {\n",
              "    0% {\n",
              "      border-color: transparent;\n",
              "      border-bottom-color: var(--fill-color);\n",
              "      border-left-color: var(--fill-color);\n",
              "    }\n",
              "    20% {\n",
              "      border-color: transparent;\n",
              "      border-left-color: var(--fill-color);\n",
              "      border-top-color: var(--fill-color);\n",
              "    }\n",
              "    30% {\n",
              "      border-color: transparent;\n",
              "      border-left-color: var(--fill-color);\n",
              "      border-top-color: var(--fill-color);\n",
              "      border-right-color: var(--fill-color);\n",
              "    }\n",
              "    40% {\n",
              "      border-color: transparent;\n",
              "      border-right-color: var(--fill-color);\n",
              "      border-top-color: var(--fill-color);\n",
              "    }\n",
              "    60% {\n",
              "      border-color: transparent;\n",
              "      border-right-color: var(--fill-color);\n",
              "    }\n",
              "    80% {\n",
              "      border-color: transparent;\n",
              "      border-right-color: var(--fill-color);\n",
              "      border-bottom-color: var(--fill-color);\n",
              "    }\n",
              "    90% {\n",
              "      border-color: transparent;\n",
              "      border-bottom-color: var(--fill-color);\n",
              "    }\n",
              "  }\n",
              "</style>\n",
              "\n",
              "  <script>\n",
              "    async function quickchart(key) {\n",
              "      const quickchartButtonEl =\n",
              "        document.querySelector('#' + key + ' button');\n",
              "      quickchartButtonEl.disabled = true;  // To prevent multiple clicks.\n",
              "      quickchartButtonEl.classList.add('colab-df-spinner');\n",
              "      try {\n",
              "        const charts = await google.colab.kernel.invokeFunction(\n",
              "            'suggestCharts', [key], {});\n",
              "      } catch (error) {\n",
              "        console.error('Error during call to suggestCharts:', error);\n",
              "      }\n",
              "      quickchartButtonEl.classList.remove('colab-df-spinner');\n",
              "      quickchartButtonEl.classList.add('colab-df-quickchart-complete');\n",
              "    }\n",
              "    (() => {\n",
              "      let quickchartButtonEl =\n",
              "        document.querySelector('#df-6bf60877-ea3d-4e32-8078-437c82196459 button');\n",
              "      quickchartButtonEl.style.display =\n",
              "        google.colab.kernel.accessAllowed ? 'block' : 'none';\n",
              "    })();\n",
              "  </script>\n",
              "</div>\n",
              "    </div>\n",
              "  </div>\n"
            ]
          },
          "metadata": {},
          "execution_count": 22
        }
      ]
    },
    {
      "cell_type": "markdown",
      "source": [
        "## **4 - Train test and test set, with vectorization and scaling**\n",
        "In order to evaluate the performance of our models, it is of primary importance to split the datased into a train set and a test set. In particular, we will employ a stratified split to preserve the proportions of each class of our dataset in the new sets.\n",
        "In addition, we also need to:\n",
        "\n",
        "*   **Vectorize** the data contained within SMS test, so that our machine learning models will be able to process it.\n",
        "\n",
        "*   **Scale numerical data**, so that each feature has a mean of 0 and a standard deviation of 1."
      ],
      "metadata": {
        "id": "CIB60LR9bwzr"
      }
    },
    {
      "cell_type": "code",
      "source": [
        "X = sms_df.drop('Fraudolent', axis=1)\n",
        "y = sms_df['Fraudolent']\n",
        "\n",
        "# Perform a stratified split to maintain target variable distribution\n",
        "X_train, X_test, y_train, y_test = train_test_split(X, y, test_size=0.2, random_state=42, stratify=y)\n",
        "\n",
        "# Identify text and numerical features\n",
        "text_feature = 'SMS test'\n",
        "numerical_features = X.columns.difference([text_feature])\n",
        "\n",
        "# Vectorize text features using TfidfVectorizer\n",
        "tfidf_vectorizer = TfidfVectorizer()\n",
        "X_train_text = tfidf_vectorizer.fit_transform(X_train[text_feature])\n",
        "X_test_text = tfidf_vectorizer.transform(X_test[text_feature])\n",
        "\n",
        "# Scale numerical features using MinMaxScaler\n",
        "scaler = MinMaxScaler()\n",
        "X_train_numerical = scaler.fit_transform(X_train[numerical_features])\n",
        "X_test_numerical = scaler.transform(X_test[numerical_features])"
      ],
      "metadata": {
        "id": "CbOTEpERceDM"
      },
      "execution_count": null,
      "outputs": []
    },
    {
      "cell_type": "code",
      "source": [
        "# Combine vectorized text features and scaled numerical features for training set\n",
        "X_train_combined = hstack([X_train_text, X_train_numerical])\n",
        "\n",
        "# Combine vectorized text features and scaled numerical features for testing set\n",
        "X_test_combined = hstack([X_test_text, X_test_numerical])\n"
      ],
      "metadata": {
        "id": "dISACQ_aC5-c"
      },
      "execution_count": null,
      "outputs": []
    },
    {
      "cell_type": "markdown",
      "source": [
        "# **Models application**"
      ],
      "metadata": {
        "id": "U366iXvWeTBe"
      }
    },
    {
      "cell_type": "markdown",
      "source": [
        "As we have previously pointed out, the task that we want to carry out can be best described as a binary classification problem. Basically, we have some input data and - by analzying the available features - we want to identify this data as either class A or B. In our specific case, we want to find out if a message provided should be classified as fraudolent or not.\n",
        "Additionally, we are working with a high-dimensional feature (SMS tests), which puts an important restriction to the choice of the model to employ.\n",
        "\n",
        "All things considered, we decided to apply the following models:\n",
        "\n",
        "\n",
        "*   **K-nn**\n",
        "*   **Logistic regression**\n",
        "*   **Kernelized SVM**\n",
        "*   **Multilayer perceptron**\n",
        "\n"
      ],
      "metadata": {
        "id": "MsgtChgfeb2F"
      }
    },
    {
      "cell_type": "markdown",
      "source": [
        "## **K-nn**\n",
        "\n"
      ],
      "metadata": {
        "id": "RlEuYRIJgiAN"
      }
    },
    {
      "cell_type": "markdown",
      "source": [
        "By default, this model picks five neighbors (basically five data points within the dataset), which are then used for the classification task. Particularly, all the other data points are assigned to  specific class, based on the one of the neighbor that is the closest to them."
      ],
      "metadata": {
        "id": "CSvmHHV0d0Pc"
      }
    },
    {
      "cell_type": "code",
      "source": [
        "knn_classifier = KNeighborsClassifier()\n",
        "\n",
        "knn_classifier.fit(X_train_combined, y_train)\n",
        "\n",
        "y_pred_train = knn_classifier.predict(X_train_combined)\n",
        "accuracy_train = accuracy_score(y_train, y_pred_train)\n",
        "print(\"Training set accuracy: {:.6f}\".format(accuracy_train))\n",
        "\n",
        "f1_train_knn = f1_score(y_train, y_pred_train)\n",
        "print(\"Training set F1 score (knn): {:.6f}\".format(f1_train_knn))\n",
        "\n",
        "y_pred = knn_classifier.predict(X_test_combined)\n",
        "accuracy = accuracy_score(y_test, y_pred)\n",
        "print(\"Test set accuracy: {:.6f}\".format(accuracy))\n",
        "\n",
        "f1_test_knn = f1_score(y_pred, y_pred)\n",
        "print(\"Test set F1 score (knn): {:.6f}\".format(f1_test_knn))\n",
        "\n",
        "print(\"\\nClassification Report:\")\n",
        "print(classification_report(y_test, y_pred))\n",
        "\n",
        "confusion_knn = confusion_matrix(y_test, y_pred)\n",
        "print(\"\\nConfusion Matrix:\")\n",
        "print(confusion_knn)"
      ],
      "metadata": {
        "colab": {
          "base_uri": "https://localhost:8080/"
        },
        "id": "X0FqVvwHwC_c",
        "outputId": "c1833f91-50bb-4899-dc7a-c5c72bdfc830"
      },
      "execution_count": null,
      "outputs": [
        {
          "output_type": "stream",
          "name": "stdout",
          "text": [
            "Training set accuracy: 0.938299\n",
            "Training set F1 score (knn): 0.702703\n",
            "Test set accuracy: 0.948879\n",
            "Test set F1 score (knn): 1.000000\n",
            "\n",
            "Classification Report:\n",
            "              precision    recall  f1-score   support\n",
            "\n",
            "           0       0.94      1.00      0.97       966\n",
            "           1       1.00      0.62      0.76       149\n",
            "\n",
            "    accuracy                           0.95      1115\n",
            "   macro avg       0.97      0.81      0.87      1115\n",
            "weighted avg       0.95      0.95      0.94      1115\n",
            "\n",
            "\n",
            "Confusion Matrix:\n",
            "[[966   0]\n",
            " [ 57  92]]\n"
          ]
        }
      ]
    },
    {
      "cell_type": "code",
      "source": [
        "print(\"Value of n_neighbors:\", knn_classifier.n_neighbors)"
      ],
      "metadata": {
        "colab": {
          "base_uri": "https://localhost:8080/"
        },
        "id": "5s54Rq7c0m2K",
        "outputId": "c923ed0f-4b51-4045-b8d5-1a87f4d2dad9"
      },
      "execution_count": null,
      "outputs": [
        {
          "output_type": "stream",
          "name": "stdout",
          "text": [
            "Value of n_neighbors: 5\n"
          ]
        }
      ]
    },
    {
      "cell_type": "markdown",
      "source": [
        "The model does not work well with n_neighboors = 5, in fact the accuracy is pretty low for both training and test set. Recall for fraudolent messages is also very low, in fact there are 57 false negatives."
      ],
      "metadata": {
        "id": "9YzL_mHh0wDP"
      }
    },
    {
      "cell_type": "markdown",
      "source": [
        "We also properly depict the confusion matrix that was previously printed."
      ],
      "metadata": {
        "id": "0_3BWzvP2SCa"
      }
    },
    {
      "cell_type": "code",
      "source": [
        "plt.figure(figsize=(8, 6))\n",
        "sns.heatmap(confusion_knn, annot=True, fmt='d', cmap='Blues', annot_kws={\"size\": 16})\n",
        "plt.xlabel('Predicted')\n",
        "plt.ylabel('Actual')\n",
        "plt.title('Confusion Matrix')\n",
        "plt.show()"
      ],
      "metadata": {
        "id": "9HMkUqMXCKgC",
        "colab": {
          "base_uri": "https://localhost:8080/",
          "height": 564
        },
        "outputId": "42919560-fd03-4af8-df6e-d63759d42508"
      },
      "execution_count": null,
      "outputs": [
        {
          "output_type": "display_data",
          "data": {
            "text/plain": [
              "<Figure size 800x600 with 2 Axes>"
            ],
            "image/png": "[encoded data removed]"
          },
          "metadata": {}
        }
      ]
    },
    {
      "cell_type": "markdown",
      "source": [
        "**True Positives**: 92\n",
        "\n",
        "**True Negatives**: 966\n",
        "\n",
        "**False Positives**: 0\n",
        "\n",
        "**False Negatives**: 57\n",
        "\n"
      ],
      "metadata": {
        "id": "34-fZ6Fs2Ycf"
      }
    },
    {
      "cell_type": "markdown",
      "source": [
        "### **Cross validation & hyperparameters tuning**"
      ],
      "metadata": {
        "id": "jcT6FzmaT82-"
      }
    },
    {
      "cell_type": "markdown",
      "source": [
        "The hyperparameter that we need to tune for this model is the previously mentioned n_neighbors, which represents the number of data points that are picked as neighbors for the classification process.\n",
        "Our objective is to identify the appropriate value for this parameter, so that it is not too low - which might cause overfitting - or too high, leading to eccessive generalization."
      ],
      "metadata": {
        "id": "gIS3_LfjX6gZ"
      }
    },
    {
      "cell_type": "markdown",
      "source": [
        "Now we use the following code to find the best value for n_neighbors."
      ],
      "metadata": {
        "id": "DoTVPUer29s5"
      }
    },
    {
      "cell_type": "code",
      "source": [
        "k_values = [i for i in range(1, 31)]\n",
        "scoresknn = []\n",
        "\n",
        "for k in k_values:\n",
        "    knn = KNeighborsClassifier(n_neighbors=k)\n",
        "    f1_scorer = make_scorer(f1_score, greater_is_better=True)\n",
        "    score = cross_val_score(knn, X_train_combined, y_train, cv=5, scoring=f1_scorer)\n",
        "    scoresknn.append(np.mean(score))\n",
        "\n",
        "for k, score in zip(k_values, scoresknn):\n",
        "    print(\"k = {}, Mean Cross-Validation F1 Score: {:.6f}\".format(k, score))\n",
        "\n",
        "best_k_index = np.argmax(scoresknn)\n",
        "best_k_value = k_values[best_k_index]"
      ],
      "metadata": {
        "colab": {
          "base_uri": "https://localhost:8080/"
        },
        "id": "scxKlIdkCP1e",
        "outputId": "569d31b8-2d3a-4c74-fe77-013f7ff40d90"
      },
      "execution_count": null,
      "outputs": [
        {
          "output_type": "stream",
          "name": "stdout",
          "text": [
            "k = 1, Mean Cross-Validation F1 Score: 0.794239\n",
            "k = 2, Mean Cross-Validation F1 Score: 0.643431\n",
            "k = 3, Mean Cross-Validation F1 Score: 0.668658\n",
            "k = 4, Mean Cross-Validation F1 Score: 0.565723\n",
            "k = 5, Mean Cross-Validation F1 Score: 0.574528\n",
            "k = 6, Mean Cross-Validation F1 Score: 0.505203\n",
            "k = 7, Mean Cross-Validation F1 Score: 0.509122\n",
            "k = 8, Mean Cross-Validation F1 Score: 0.457593\n",
            "k = 9, Mean Cross-Validation F1 Score: 0.457593\n",
            "k = 10, Mean Cross-Validation F1 Score: 0.409830\n",
            "k = 11, Mean Cross-Validation F1 Score: 0.412048\n",
            "k = 12, Mean Cross-Validation F1 Score: 0.386944\n",
            "k = 13, Mean Cross-Validation F1 Score: 0.393246\n",
            "k = 14, Mean Cross-Validation F1 Score: 0.358396\n",
            "k = 15, Mean Cross-Validation F1 Score: 0.623009\n",
            "k = 16, Mean Cross-Validation F1 Score: 0.600596\n",
            "k = 17, Mean Cross-Validation F1 Score: 0.635551\n",
            "k = 18, Mean Cross-Validation F1 Score: 0.620354\n",
            "k = 19, Mean Cross-Validation F1 Score: 0.714932\n",
            "k = 20, Mean Cross-Validation F1 Score: 0.699987\n",
            "k = 21, Mean Cross-Validation F1 Score: 0.795766\n",
            "k = 22, Mean Cross-Validation F1 Score: 0.788410\n",
            "k = 23, Mean Cross-Validation F1 Score: 0.807803\n",
            "k = 24, Mean Cross-Validation F1 Score: 0.802928\n",
            "k = 25, Mean Cross-Validation F1 Score: 0.815259\n",
            "k = 26, Mean Cross-Validation F1 Score: 0.809433\n",
            "k = 27, Mean Cross-Validation F1 Score: 0.822105\n",
            "k = 28, Mean Cross-Validation F1 Score: 0.818768\n",
            "k = 29, Mean Cross-Validation F1 Score: 0.830791\n",
            "k = 30, Mean Cross-Validation F1 Score: 0.826182\n"
          ]
        }
      ]
    },
    {
      "cell_type": "markdown",
      "source": [
        "To better understand these results, we plot them on a graph."
      ],
      "metadata": {
        "id": "c4Z3pDUS3Enr"
      }
    },
    {
      "cell_type": "code",
      "source": [
        "sns.lineplot(x = k_values, y = scoresknn, marker = 'o')\n",
        "plt.xlabel(\"K Values\")\n",
        "plt.ylabel(\"F1 Score\")\n",
        "plt.title(\"Cross-Validation Scores for KNN\")\n",
        "plt.grid(True)\n",
        "plt.show()"
      ],
      "metadata": {
        "colab": {
          "base_uri": "https://localhost:8080/",
          "height": 472
        },
        "id": "QBSHLVk4RiQQ",
        "outputId": "c7ab8f73-2b0a-431d-c56b-1e8ee4b74756"
      },
      "execution_count": null,
      "outputs": [
        {
          "output_type": "display_data",
          "data": {
            "text/plain": [
              "<Figure size 640x480 with 1 Axes>"
            ],
            "image/png": "[encoded data removed]"
          },
          "metadata": {}
        }
      ]
    },
    {
      "cell_type": "markdown",
      "source": [
        "As we can see from the graph above, the best value for n_neighbors is 29. We now inject into our model this new piece of information.\n"
      ],
      "metadata": {
        "id": "CZ2s0Pct3JmY"
      }
    },
    {
      "cell_type": "code",
      "source": [
        "new_n_neighbors = best_k_value\n",
        "knn_classifier.set_params(n_neighbors=new_n_neighbors)\n",
        "knn_classifier.fit(X_train_combined, y_train)\n",
        "\n",
        "y_pred_train = knn_classifier.predict(X_train_combined)\n",
        "accuracy_train = accuracy_score(y_train, y_pred_train)\n",
        "print(\"Training set accuracy: {:.6f}\".format(accuracy_train))\n",
        "\n",
        "f1_train_knn = f1_score(y_train, y_pred_train)\n",
        "print(\"Training set F1 score (knn): {:.6f}\".format(f1_train_knn))\n",
        "\n",
        "y_pred = knn_classifier.predict(X_test_combined)\n",
        "accuracy = accuracy_score(y_test, y_pred)\n",
        "print(\"Test set accuracy: {:.6f}\".format(accuracy))\n",
        "\n",
        "f1_test_knn = f1_score(y_pred, y_pred)\n",
        "print(\"Test set F1 score (knn): {:.6f}\".format(f1_test_knn))\n",
        "\n",
        "print(\"\\nClassification Report:\")\n",
        "print(classification_report(y_test, y_pred))\n",
        "\n",
        "confusion_knn = confusion_matrix(y_test, y_pred)\n",
        "print(\"\\nConfusion Matrix:\")\n",
        "print(confusion_knn)"
      ],
      "metadata": {
        "colab": {
          "base_uri": "https://localhost:8080/"
        },
        "id": "AJfqPhWy-pjJ",
        "outputId": "4adbd738-06dc-4058-d02d-df3cb08b3025"
      },
      "execution_count": null,
      "outputs": [
        {
          "output_type": "stream",
          "name": "stdout",
          "text": [
            "Training set accuracy: 0.958268\n",
            "Training set F1 score (knn): 0.816206\n",
            "Test set accuracy: 0.965919\n",
            "Test set F1 score (knn): 1.000000\n",
            "\n",
            "Classification Report:\n",
            "              precision    recall  f1-score   support\n",
            "\n",
            "           0       0.96      1.00      0.98       966\n",
            "           1       1.00      0.74      0.85       149\n",
            "\n",
            "    accuracy                           0.97      1115\n",
            "   macro avg       0.98      0.87      0.92      1115\n",
            "weighted avg       0.97      0.97      0.96      1115\n",
            "\n",
            "\n",
            "Confusion Matrix:\n",
            "[[966   0]\n",
            " [ 38 111]]\n"
          ]
        }
      ]
    },
    {
      "cell_type": "markdown",
      "source": [
        "The model's performances have been improved selecting n_neighboors = 29, in fact the accuracy has increased for both training and test set. Recall for fraudolent messages has increased to 85%, in fact there are 38 false negatives."
      ],
      "metadata": {
        "id": "_vVFMB0E4FAj"
      }
    },
    {
      "cell_type": "markdown",
      "source": [
        "This is the confusion matrix."
      ],
      "metadata": {
        "id": "RklNMQc84M5t"
      }
    },
    {
      "cell_type": "code",
      "source": [
        "plt.figure(figsize=(8, 6))\n",
        "sns.heatmap(confusion_knn, annot=True, fmt='d', cmap='Blues', annot_kws={\"size\": 16})\n",
        "plt.xlabel('Predicted')\n",
        "plt.ylabel('Actual')\n",
        "plt.title('Confusion Matrix')\n",
        "plt.show()"
      ],
      "metadata": {
        "colab": {
          "base_uri": "https://localhost:8080/",
          "height": 564
        },
        "id": "wRDDJpkrEXo-",
        "outputId": "9aeeb88e-4ed4-4ac7-dd91-7a896c14abab"
      },
      "execution_count": null,
      "outputs": [
        {
          "output_type": "display_data",
          "data": {
            "text/plain": [
              "<Figure size 800x600 with 2 Axes>"
            ],
            "image/png": "[encoded data removed]"
          },
          "metadata": {}
        }
      ]
    },
    {
      "cell_type": "markdown",
      "source": [
        "**True Positives**: 111\n",
        "\n",
        "**True Negatives**: 966\n",
        "\n",
        "**False Positives**: 0\n",
        "\n",
        "**False Negatives**: 38\n"
      ],
      "metadata": {
        "id": "GhsrpU7S4IJo"
      }
    },
    {
      "cell_type": "markdown",
      "source": [
        "## **Logistic regression**"
      ],
      "metadata": {
        "id": "ElRRPvpjhJyC"
      }
    },
    {
      "cell_type": "markdown",
      "source": [
        "Logistic Regression is a linear model for binary classification, which predicts the probability of an instance to belong to a particular class based on a linear combination of input features. In particular, according to the result of the function, it separates two classes using a line, a plane, or a hyper‐plane.\n"
      ],
      "metadata": {
        "id": "iZHTEa4Z49ao"
      }
    },
    {
      "cell_type": "code",
      "source": [
        "logreg_model = LogisticRegression()\n",
        "logreg_model.fit(X_train_combined, y_train)\n",
        "\n",
        "y_pred_train_logreg = logreg_model.predict(X_train_combined)\n",
        "\n",
        "accuracy_train_logreg = accuracy_score(y_train, y_pred_train_logreg)\n",
        "print(\"Training set accuracy (Logistic Regression): {:.6f}\".format(accuracy_train_logreg))\n",
        "\n",
        "f1_train_logreg = f1_score(y_train, y_pred_train_logreg)\n",
        "print(\"Training set F1 score (Logistic Regression): {:.6f}\".format(f1_train_logreg))\n",
        "\n",
        "y_pred_test_logreg = logreg_model.predict(X_test_combined)\n",
        "\n",
        "accuracy_test_logreg = accuracy_score(y_test, y_pred_test_logreg)\n",
        "print(\"Test set accuracy (Logistic Regression): {:.6f}\".format(accuracy_test_logreg))\n",
        "\n",
        "f1_test_logreg = f1_score(y_test, y_pred_test_logreg)\n",
        "print(\"Test set F1 score (Logistic Regression): {:.6f}\".format(f1_test_logreg))\n",
        "\n",
        "print(\"\\nClassification Report (Logistic Regression):\")\n",
        "print(classification_report(y_test, y_pred_test_logreg))\n",
        "\n",
        "confusion_logreg = confusion_matrix(y_test, y_pred_test_logreg)\n",
        "print(\"\\nConfusion Matrix (Logistic Regression):\")\n",
        "print(confusion_logreg)"
      ],
      "metadata": {
        "colab": {
          "base_uri": "https://localhost:8080/"
        },
        "id": "zqpf-3DKJtqK",
        "outputId": "383eb804-ee11-4cf7-c831-702d62d84351"
      },
      "execution_count": null,
      "outputs": [
        {
          "output_type": "stream",
          "name": "stdout",
          "text": [
            "Training set accuracy (Logistic Regression): 0.982724\n",
            "Training set F1 score (Logistic Regression): 0.931798\n",
            "Test set accuracy (Logistic Regression): 0.980269\n",
            "Test set F1 score (Logistic Regression): 0.920863\n",
            "\n",
            "Classification Report (Logistic Regression):\n",
            "              precision    recall  f1-score   support\n",
            "\n",
            "           0       0.98      1.00      0.99       966\n",
            "           1       0.99      0.86      0.92       149\n",
            "\n",
            "    accuracy                           0.98      1115\n",
            "   macro avg       0.99      0.93      0.95      1115\n",
            "weighted avg       0.98      0.98      0.98      1115\n",
            "\n",
            "\n",
            "Confusion Matrix (Logistic Regression):\n",
            "[[965   1]\n",
            " [ 21 128]]\n"
          ]
        }
      ]
    },
    {
      "cell_type": "code",
      "source": [
        "print(\"Value of C:\", logreg_model.get_params()['C'])"
      ],
      "metadata": {
        "colab": {
          "base_uri": "https://localhost:8080/"
        },
        "id": "AXCa9Yuj10f_",
        "outputId": "09cd5800-7264-4641-a3c9-c42547641aeb"
      },
      "execution_count": null,
      "outputs": [
        {
          "output_type": "stream",
          "name": "stdout",
          "text": [
            "Value of C: 1.0\n"
          ]
        }
      ]
    },
    {
      "cell_type": "markdown",
      "source": [
        "The model works well with C = 1 but is quite underfitting (Training set accuracy and Test set accuracy are really close). In addition there is also a false positive. To avoid that we must search for other values of C.\n"
      ],
      "metadata": {
        "id": "5wWlYRCa5Pdw"
      }
    },
    {
      "cell_type": "markdown",
      "source": [
        "The confusion matrix can be represented as follows:"
      ],
      "metadata": {
        "id": "NEvHZaSb5F3y"
      }
    },
    {
      "cell_type": "code",
      "source": [
        "plt.figure(figsize=(8, 6))\n",
        "sns.heatmap(confusion_logreg, annot=True, fmt='d', cmap='Blues', annot_kws={\"size\": 16})\n",
        "plt.xlabel('Predicted')\n",
        "plt.ylabel('Actual')\n",
        "plt.title('Confusion Matrix')\n",
        "plt.show()"
      ],
      "metadata": {
        "id": "30kW5mkkCPbB",
        "colab": {
          "base_uri": "https://localhost:8080/",
          "height": 564
        },
        "outputId": "985b84af-2a17-4095-ac2e-ef123461ff68"
      },
      "execution_count": null,
      "outputs": [
        {
          "output_type": "display_data",
          "data": {
            "text/plain": [
              "<Figure size 800x600 with 2 Axes>"
            ],
            "image/png": "[encoded data removed]"
          },
          "metadata": {}
        }
      ]
    },
    {
      "cell_type": "markdown",
      "source": [
        "**True Positives**: 128\n",
        "\n",
        "**True Negatives**: 965\n",
        "\n",
        "**False Positives**: 1\n",
        "\n",
        "**False Negatives**: 21"
      ],
      "metadata": {
        "id": "EVtbHBdm5LKv"
      }
    },
    {
      "cell_type": "markdown",
      "source": [
        "### **Cross validation & hyperparameters tuning**"
      ],
      "metadata": {
        "id": "sNIEgYAiX_w0"
      }
    },
    {
      "cell_type": "markdown",
      "source": [
        "In a Logistic Regression model, the C parameter influences the strenght of the applied regularization. A high value of C implies small regularization and higher complexity. Vice versa, a smaller C results in a greater regularization and a lower complexity."
      ],
      "metadata": {
        "id": "4meVxGdQ5R2n"
      }
    },
    {
      "cell_type": "code",
      "source": [
        "C_values = np.logspace(-3, 3, 7)\n",
        "scoresLR = []\n",
        "\n",
        "for C in C_values:\n",
        "    logreg_model = LogisticRegression(C=C)\n",
        "    f1_scorer = make_scorer(f1_score, greater_is_better=True)\n",
        "    score = cross_val_score(logreg_model, X_train_combined, y_train, cv=5, scoring=f1_scorer)\n",
        "    scoresLR.append(np.mean(score))\n",
        "\n",
        "# Find the index of the C value with the highest accuracy\n",
        "best_CLR_index = np.argmax(scoresLR)\n",
        "best_CLR_value = C_values[best_CLR_index]"
      ],
      "metadata": {
        "id": "0hqH-LCXgAwH"
      },
      "execution_count": null,
      "outputs": []
    },
    {
      "cell_type": "code",
      "source": [
        "for C, score in zip(C_values, scoresLR):\n",
        "    print(\"C = {:.6f}, Mean Cross-Validation F1 Score: {:.6f}\".format(C, score))"
      ],
      "metadata": {
        "colab": {
          "base_uri": "https://localhost:8080/"
        },
        "id": "CNE-7qa3Mj_T",
        "outputId": "0ac3a992-aacf-4fc3-c322-4441b4e1b660"
      },
      "execution_count": null,
      "outputs": [
        {
          "output_type": "stream",
          "name": "stdout",
          "text": [
            "C = 0.001000, Mean Cross-Validation F1 Score: 0.000000\n",
            "C = 0.010000, Mean Cross-Validation F1 Score: 0.016395\n",
            "C = 0.100000, Mean Cross-Validation F1 Score: 0.775239\n",
            "C = 1.000000, Mean Cross-Validation F1 Score: 0.906905\n",
            "C = 10.000000, Mean Cross-Validation F1 Score: 0.938897\n",
            "C = 100.000000, Mean Cross-Validation F1 Score: 0.944380\n",
            "C = 1000.000000, Mean Cross-Validation F1 Score: 0.946220\n"
          ]
        }
      ]
    },
    {
      "cell_type": "markdown",
      "source": [
        "To better visualize the values that we have found, we can use a graph."
      ],
      "metadata": {
        "id": "v7bry_OF5fn7"
      }
    },
    {
      "cell_type": "code",
      "source": [
        "sns.lineplot(x=C_values, y=scoresLR, marker='o')\n",
        "plt.xlabel(\"C Values\")\n",
        "plt.ylabel(\"F1 Score\")\n",
        "plt.title(\"Cross-Validation Scores for Logistic Regression\")\n",
        "plt.grid(True)\n",
        "plt.show()"
      ],
      "metadata": {
        "colab": {
          "base_uri": "https://localhost:8080/",
          "height": 472
        },
        "id": "Rwvu2gbPhHo8",
        "outputId": "9c614be5-8487-4304-dd1e-7747d76fa95c"
      },
      "execution_count": null,
      "outputs": [
        {
          "output_type": "display_data",
          "data": {
            "text/plain": [
              "<Figure size 640x480 with 1 Axes>"
            ],
            "image/png": "[encoded data removed]"
          },
          "metadata": {}
        }
      ]
    },
    {
      "cell_type": "code",
      "source": [
        "new_C = best_CLR_value\n",
        "logreg_model.set_params(C=new_C)\n",
        "\n",
        "logreg_model.fit(X_train_combined, y_train)\n",
        "\n",
        "y_pred_train_logreg = logreg_model.predict(X_train_combined)\n",
        "\n",
        "accuracy_train_logreg = accuracy_score(y_train, y_pred_train_logreg)\n",
        "print(\"Training set accuracy (Logistic Regression): {:.6f}\".format(accuracy_train_logreg))\n",
        "\n",
        "f1_train_logreg = f1_score(y_train, y_pred_train_logreg)\n",
        "print(\"Training set F1 score (Logistic Regression): {:.6f}\".format(f1_train_logreg))\n",
        "\n",
        "y_pred_test_logreg = logreg_model.predict(X_test_combined)\n",
        "\n",
        "accuracy_test_logreg = accuracy_score(y_test, y_pred_test_logreg)\n",
        "print(\"Test set accuracy (Logistic Regression): {:.6f}\".format(accuracy_test_logreg))\n",
        "\n",
        "f1_test_logreg = f1_score(y_test, y_pred_test_logreg)\n",
        "print(\"Test set F1 score (Logistic Regression): {:.6f}\".format(f1_test_logreg))\n",
        "\n",
        "print(\"\\nClassification Report (Logistic Regression):\")\n",
        "print(classification_report(y_test, y_pred_test_logreg))\n",
        "\n",
        "confusion_logreg = confusion_matrix(y_test, y_pred_test_logreg)\n",
        "print(\"\\nConfusion Matrix (Logistic Regression):\")\n",
        "print(confusion_logreg)"
      ],
      "metadata": {
        "id": "jMI2iGI_hQkF",
        "colab": {
          "base_uri": "https://localhost:8080/"
        },
        "outputId": "f99ff02b-b32e-4cdb-e4ab-a2376f7de1b1"
      },
      "execution_count": null,
      "outputs": [
        {
          "output_type": "stream",
          "name": "stdout",
          "text": [
            "Training set accuracy (Logistic Regression): 1.000000\n",
            "Training set F1 score (Logistic Regression): 1.000000\n",
            "Test set accuracy (Logistic Regression): 0.991031\n",
            "Test set F1 score (Logistic Regression): 0.965278\n",
            "\n",
            "Classification Report (Logistic Regression):\n",
            "              precision    recall  f1-score   support\n",
            "\n",
            "           0       0.99      1.00      0.99       966\n",
            "           1       1.00      0.93      0.97       149\n",
            "\n",
            "    accuracy                           0.99      1115\n",
            "   macro avg       0.99      0.97      0.98      1115\n",
            "weighted avg       0.99      0.99      0.99      1115\n",
            "\n",
            "\n",
            "Confusion Matrix (Logistic Regression):\n",
            "[[966   0]\n",
            " [ 10 139]]\n"
          ]
        }
      ]
    },
    {
      "cell_type": "markdown",
      "source": [
        "With C = 1000 results are very good. The model overfits a bit (Training set accuracy = 1) but the accuracy on the test set is really high (99%). There is no more a false positive and the number of false negatives is decrased to 10, which is just the 7% of the total."
      ],
      "metadata": {
        "id": "yFqcas1q5qLS"
      }
    },
    {
      "cell_type": "markdown",
      "source": [
        "And this is the confusion matrix:"
      ],
      "metadata": {
        "id": "hsR5Pl3t5nle"
      }
    },
    {
      "cell_type": "code",
      "source": [
        "plt.figure(figsize=(8, 6))\n",
        "sns.heatmap(confusion_logreg, annot=True, fmt='d', cmap='Blues', annot_kws={\"size\": 16})\n",
        "plt.xlabel('Predicted')\n",
        "plt.ylabel('Actual')\n",
        "plt.title('Confusion Matrix')\n",
        "plt.show()"
      ],
      "metadata": {
        "colab": {
          "base_uri": "https://localhost:8080/",
          "height": 564
        },
        "id": "AfrXOvA83BIL",
        "outputId": "fbc31d63-bab1-4e79-eb72-4b125d54dfe3"
      },
      "execution_count": null,
      "outputs": [
        {
          "output_type": "display_data",
          "data": {
            "text/plain": [
              "<Figure size 800x600 with 2 Axes>"
            ],
            "image/png": "[encoded data removed]"
          },
          "metadata": {}
        }
      ]
    },
    {
      "cell_type": "markdown",
      "source": [
        "**True Positives**: 139\n",
        "\n",
        "**True Negatives**: 966\n",
        "\n",
        "**False Positives**: 0\n",
        "\n",
        "**False Negatives**: 10"
      ],
      "metadata": {
        "id": "E8-kmTYlN8sg"
      }
    },
    {
      "cell_type": "markdown",
      "source": [
        "## **Kernelized SVM**"
      ],
      "metadata": {
        "id": "VzJWz8Q1hWvR"
      }
    },
    {
      "cell_type": "markdown",
      "source": [
        "Kernelized SVM is an algorithm for classification, that identifies the optimal hyperplane to effectively separate the two classes. To achieve this, SVMs employ a kernel function to map the input data into a higher-dimensional space, allowing an efficient identification complex relationships."
      ],
      "metadata": {
        "id": "s1jpclMx5ram"
      }
    },
    {
      "cell_type": "code",
      "source": [
        "svm_model = SVC(kernel='rbf')\n",
        "\n",
        "svm_model.fit(X_train_combined, y_train)\n",
        "\n",
        "y_pred_train_svm = svm_model.predict(X_train_combined)\n",
        "\n",
        "accuracy_train_svm = accuracy_score(y_train, y_pred_train_svm)\n",
        "print(\"Training set accuracy (SVM): {:.6f}\".format(accuracy_train_svm))\n",
        "\n",
        "f1_train_svm = f1_score(y_train, y_pred_train_svm)\n",
        "print(\"Test set F1 score (SVM): {:.6f}\".format(f1_train_svm))\n",
        "\n",
        "y_pred_test_svm = svm_model.predict(X_test_combined)\n",
        "\n",
        "accuracy_test_svm = accuracy_score(y_test, y_pred_test_svm)\n",
        "print(\"Test set accuracy (SVM): {:.6f}\".format(accuracy_test_svm))\n",
        "\n",
        "f1_test_svm = f1_score(y_test, y_pred_test_svm)\n",
        "print(\"Test set F1 score (SVM): {:.6f}\".format(f1_test_svm))\n",
        "\n",
        "print(\"\\nClassification Report (SVM):\")\n",
        "print(classification_report(y_test, y_pred_test_svm))\n",
        "\n",
        "confusion_svm = confusion_matrix(y_test, y_pred_test_svm)\n",
        "print(\"\\nConfusion Matrix (SVM):\")\n",
        "print(confusion_svm)\n"
      ],
      "metadata": {
        "colab": {
          "base_uri": "https://localhost:8080/"
        },
        "id": "xHrmwd2qwe7s",
        "outputId": "eb7c96a2-a3a7-4861-ac0d-cea1f1aaa190"
      },
      "execution_count": null,
      "outputs": [
        {
          "output_type": "stream",
          "name": "stdout",
          "text": [
            "Training set accuracy (SVM): 0.996635\n",
            "Test set F1 score (SVM): 0.987320\n",
            "Test set accuracy (SVM): 0.982063\n",
            "Test set F1 score (SVM): 0.928058\n",
            "\n",
            "Classification Report (SVM):\n",
            "              precision    recall  f1-score   support\n",
            "\n",
            "           0       0.98      1.00      0.99       966\n",
            "           1       1.00      0.87      0.93       149\n",
            "\n",
            "    accuracy                           0.98      1115\n",
            "   macro avg       0.99      0.93      0.96      1115\n",
            "weighted avg       0.98      0.98      0.98      1115\n",
            "\n",
            "\n",
            "Confusion Matrix (SVM):\n",
            "[[966   0]\n",
            " [ 20 129]]\n"
          ]
        }
      ]
    },
    {
      "cell_type": "code",
      "source": [
        "print(\"Value of C:\", svm_model.get_params()['C'])\n",
        "print(\"Value of gamma:\", svm_model._gamma)"
      ],
      "metadata": {
        "colab": {
          "base_uri": "https://localhost:8080/"
        },
        "id": "AZ53TnId3MS9",
        "outputId": "691713d5-3af6-4b8b-9f4c-629dfefba7aa"
      },
      "execution_count": null,
      "outputs": [
        {
          "output_type": "stream",
          "name": "stdout",
          "text": [
            "Value of C: 1.0\n",
            "Value of gamma: 0.9203139328816125\n"
          ]
        }
      ]
    },
    {
      "cell_type": "markdown",
      "source": [
        "The model works well with C = 1 and gamma = 0.9203139328816125 but there are 10 more false negatives than the logistic regression's ones. To improve the results we need to tune the hypervalues."
      ],
      "metadata": {
        "id": "0IBSX9Pa52-9"
      }
    },
    {
      "cell_type": "markdown",
      "source": [
        "The confusion matrix for this model is as follows:"
      ],
      "metadata": {
        "id": "EBF2evl1540F"
      }
    },
    {
      "cell_type": "code",
      "source": [
        "plt.figure(figsize=(8, 6))\n",
        "sns.heatmap(confusion_svm, annot=True, fmt='d', cmap='Blues', annot_kws={\"size\": 16})\n",
        "plt.xlabel('Predicted')\n",
        "plt.ylabel('Actual')\n",
        "plt.title('Confusion Matrix')\n",
        "plt.show()"
      ],
      "metadata": {
        "id": "1r7pX38ZCTQu",
        "colab": {
          "base_uri": "https://localhost:8080/",
          "height": 564
        },
        "outputId": "b1d03e29-32df-4238-bd5f-db53673d1f31"
      },
      "execution_count": null,
      "outputs": [
        {
          "output_type": "display_data",
          "data": {
            "text/plain": [
              "<Figure size 800x600 with 2 Axes>"
            ],
            "image/png": "[encoded data removed]"
          },
          "metadata": {}
        }
      ]
    },
    {
      "cell_type": "markdown",
      "source": [
        "**True Positives**: 129\n",
        "\n",
        "**True Negatives**: 966\n",
        "\n",
        "**False Positives**: 0\n",
        "\n",
        "**False Negatives**: 20"
      ],
      "metadata": {
        "id": "xM_J40FC6AnE"
      }
    },
    {
      "cell_type": "markdown",
      "source": [
        "### **Cross validation & hyperparameters tuning**"
      ],
      "metadata": {
        "id": "0-CR1FsnYjXL"
      }
    },
    {
      "cell_type": "markdown",
      "source": [
        "For this model, we will be working on two different hyperparameters: C and gamma. While the C parameter is like the one that we have seen for Logistic Regression, gamma is different: it controls the width of the Gaussian kernel. In practice, this means that, with a small gamma, many points will be considered close, resulting in a lower complexity. The opposite is true with high values of gamma."
      ],
      "metadata": {
        "id": "RrH0GNaM6KLW"
      }
    },
    {
      "cell_type": "markdown",
      "source": [
        "Firstly, we look for the best value for C."
      ],
      "metadata": {
        "id": "FOlyTYvCYzc_"
      }
    },
    {
      "cell_type": "code",
      "source": [
        "C_values = np.logspace(-3, 3, 7)\n",
        "scoresSVM = []\n",
        "\n",
        "\n",
        "for C in C_values:\n",
        "    svm_model = SVC(kernel='rbf', C=C)\n",
        "    f1_scorer = make_scorer(f1_score, greater_is_better=True)\n",
        "    score = cross_val_score(svm_model, X_train_combined, y_train, cv=5, scoring=f1_scorer)\n",
        "    scoresSVM.append(np.mean(score))\n",
        "\n",
        "# Find the index of the C value with the highest accuracy\n",
        "best_CSVM_index = np.argmax(scoresSVM)\n",
        "best_CSVM_value = C_values[best_CSVM_index]"
      ],
      "metadata": {
        "id": "hd2bFP9GDFdB"
      },
      "execution_count": null,
      "outputs": []
    },
    {
      "cell_type": "code",
      "source": [
        "for C, score in zip(C_values, scoresSVM):\n",
        "    print(f\"F1 for C={C}: {score}\")"
      ],
      "metadata": {
        "colab": {
          "base_uri": "https://localhost:8080/"
        },
        "id": "9qMnf020DQIO",
        "outputId": "d8e76598-72dc-48c2-b6b3-38ffb0b2d9ab"
      },
      "execution_count": null,
      "outputs": [
        {
          "output_type": "stream",
          "name": "stdout",
          "text": [
            "F1 for C=0.001: 0.0\n",
            "F1 for C=0.01: 0.0\n",
            "F1 for C=0.1: 0.8509121617752229\n",
            "F1 for C=1.0: 0.9349319936394173\n",
            "F1 for C=10.0: 0.9405090949437197\n",
            "F1 for C=100.0: 0.9405090949437197\n",
            "F1 for C=1000.0: 0.9405090949437197\n"
          ]
        }
      ]
    },
    {
      "cell_type": "markdown",
      "source": [
        "To better visualize the values that we have found, we can use a graph."
      ],
      "metadata": {
        "id": "SHmwZDtWLike"
      }
    },
    {
      "cell_type": "code",
      "source": [
        "sns.lineplot(x=C_values, y=scoresSVM, marker='o')\n",
        "plt.xlabel(\"C Values\")\n",
        "plt.ylabel(\"F1 Score\")\n",
        "plt.title(\"Cross-Validation Scores for SVM with RBF Kernel\")\n",
        "plt.grid(True)\n",
        "plt.show()"
      ],
      "metadata": {
        "colab": {
          "base_uri": "https://localhost:8080/",
          "height": 472
        },
        "id": "e9XBbluGj1Nx",
        "outputId": "2383c3b0-1b13-495c-c165-de926521fed0"
      },
      "execution_count": null,
      "outputs": [
        {
          "output_type": "display_data",
          "data": {
            "text/plain": [
              "<Figure size 640x480 with 1 Axes>"
            ],
            "image/png": "[encoded data removed]"
          },
          "metadata": {}
        }
      ]
    },
    {
      "cell_type": "code",
      "source": [
        "new_C_svm = best_CSVM_value\n",
        "svm_model.set_params(C=new_C_svm)\n",
        "\n",
        "svm_model.fit(X_train_combined, y_train)\n",
        "\n",
        "y_pred_train_svm = svm_model.predict(X_train_combined)\n",
        "\n",
        "accuracy_train_svm = accuracy_score(y_train, y_pred_train_svm)\n",
        "print(\"Training set accuracy (SVM): {:.6f}\".format(accuracy_train_svm))\n",
        "\n",
        "f1_train_svm = f1_score(y_train, y_pred_train_svm)\n",
        "print(\"Test set F1 score (SVM): {:.6f}\".format(f1_train_svm))\n",
        "\n",
        "y_pred_test_svm = svm_model.predict(X_test_combined)\n",
        "\n",
        "accuracy_test_svm = accuracy_score(y_test, y_pred_test_svm)\n",
        "print(\"Test set accuracy (SVM): {:.6f}\".format(accuracy_test_svm))\n",
        "\n",
        "f1_test_svm = f1_score(y_test, y_pred_test_svm)\n",
        "print(\"Test set F1 score (SVM): {:.6f}\".format(f1_test_svm))\n",
        "\n",
        "print(\"\\nClassification Report (SVM):\")\n",
        "print(classification_report(y_test, y_pred_test_svm))\n",
        "\n",
        "confusion_svm = confusion_matrix(y_test, y_pred_test_svm)\n",
        "print(\"\\nConfusion Matrix (SVM):\")\n",
        "print(confusion_svm)"
      ],
      "metadata": {
        "colab": {
          "base_uri": "https://localhost:8080/"
        },
        "id": "2ACXCxqH814U",
        "outputId": "c76f92bc-e1a5-46ce-ff33-79225e3490c7"
      },
      "execution_count": null,
      "outputs": [
        {
          "output_type": "stream",
          "name": "stdout",
          "text": [
            "Training set accuracy (SVM): 1.000000\n",
            "Test set F1 score (SVM): 1.000000\n",
            "Test set accuracy (SVM): 0.983857\n",
            "Test set F1 score (SVM): 0.935714\n",
            "\n",
            "Classification Report (SVM):\n",
            "              precision    recall  f1-score   support\n",
            "\n",
            "           0       0.98      1.00      0.99       966\n",
            "           1       1.00      0.88      0.94       149\n",
            "\n",
            "    accuracy                           0.98      1115\n",
            "   macro avg       0.99      0.94      0.96      1115\n",
            "weighted avg       0.98      0.98      0.98      1115\n",
            "\n",
            "\n",
            "Confusion Matrix (SVM):\n",
            "[[966   0]\n",
            " [ 18 131]]\n"
          ]
        }
      ]
    },
    {
      "cell_type": "markdown",
      "source": [
        "With C = 10 the performances on the test set has improved slightly but the model is overfitting (Training set accuracy = 1). False negatives decreased by 2."
      ],
      "metadata": {
        "id": "lF2_Le7mKCs3"
      }
    },
    {
      "cell_type": "markdown",
      "source": [
        "Now, we look for the best value for gamma."
      ],
      "metadata": {
        "id": "mLqtTdZYYofx"
      }
    },
    {
      "cell_type": "code",
      "source": [
        "gamma_values = np.logspace(-3, 3, 7)\n",
        "default_gamma = 0.9203021013850465\n",
        "gamma_values = np.append(gamma_values, default_gamma) #We add the default value of gamma to compare it with the others.\n",
        "scoresSVM = []\n",
        "\n",
        "\n",
        "for gamma in gamma_values:\n",
        "    svm_model = SVC(kernel='rbf', gamma=gamma)\n",
        "    f1_scorer = make_scorer(f1_score, greater_is_better=True)\n",
        "    score = cross_val_score(svm_model, X_train_combined, y_train, cv=5, scoring=f1_scorer)\n",
        "    scoresSVM.append(np.mean(score))\n",
        "\n",
        "# Find the index of the gamma value with the highest accuracy\n",
        "best_gammaSVM_index = np.argmax(scoresSVM)\n",
        "best_gammaSVM_value = gamma_values[best_gammaSVM_index]"
      ],
      "metadata": {
        "id": "6qBtdU-kPbS6"
      },
      "execution_count": null,
      "outputs": []
    },
    {
      "cell_type": "code",
      "source": [
        "for gamma, score in zip(gamma_values, scoresSVM):\n",
        "    print(\"Gamma = {:.6f}, Mean Cross-Validation F1 Score: {:.6f}\".format(gamma, score))"
      ],
      "metadata": {
        "colab": {
          "base_uri": "https://localhost:8080/"
        },
        "id": "9sJw2NjOP_eS",
        "outputId": "115e8711-68d3-40b3-a603-5d78d4222ad5"
      },
      "execution_count": null,
      "outputs": [
        {
          "output_type": "stream",
          "name": "stdout",
          "text": [
            "Gamma = 0.001000, Mean Cross-Validation F1 Score: 0.000000\n",
            "Gamma = 0.010000, Mean Cross-Validation F1 Score: 0.816260\n",
            "Gamma = 0.100000, Mean Cross-Validation F1 Score: 0.912013\n",
            "Gamma = 1.000000, Mean Cross-Validation F1 Score: 0.933077\n",
            "Gamma = 10.000000, Mean Cross-Validation F1 Score: 0.354284\n",
            "Gamma = 100.000000, Mean Cross-Validation F1 Score: 0.338445\n",
            "Gamma = 1000.000000, Mean Cross-Validation F1 Score: 0.333924\n",
            "Gamma = 0.920302, Mean Cross-Validation F1 Score: 0.934932\n"
          ]
        }
      ]
    },
    {
      "cell_type": "markdown",
      "source": [
        "To better visualize the values that we have found, we can use a graph."
      ],
      "metadata": {
        "id": "I8gppol0MNaW"
      }
    },
    {
      "cell_type": "code",
      "source": [
        "sns.lineplot(x=gamma_values, y=scoresSVM, marker='o')\n",
        "plt.xlabel(\"gamma Values\")\n",
        "plt.ylabel(\"F1 Score\")\n",
        "plt.title(\"Cross-Validation Scores for SVM with RBF Kernel\")\n",
        "plt.grid(True)\n",
        "plt.show()"
      ],
      "metadata": {
        "colab": {
          "base_uri": "https://localhost:8080/",
          "height": 472
        },
        "id": "ouRanVtYQJtC",
        "outputId": "c0485548-246f-46f2-9498-6118834b1fb3"
      },
      "execution_count": null,
      "outputs": [
        {
          "output_type": "display_data",
          "data": {
            "text/plain": [
              "<Figure size 640x480 with 1 Axes>"
            ],
            "image/png": "[encoded data removed]"
          },
          "metadata": {}
        }
      ]
    },
    {
      "cell_type": "markdown",
      "source": [
        "The default value of gamma is the best so we do not change that."
      ],
      "metadata": {
        "id": "63QdNVSJMRWN"
      }
    },
    {
      "cell_type": "code",
      "source": [
        "plt.figure(figsize=(8, 6))\n",
        "sns.heatmap(confusion_svm, annot=True, fmt='d', cmap='Blues', annot_kws={\"size\": 16})\n",
        "plt.xlabel('Predicted')\n",
        "plt.ylabel('Actual')\n",
        "plt.title('Confusion Matrix')\n",
        "plt.show()"
      ],
      "metadata": {
        "colab": {
          "base_uri": "https://localhost:8080/",
          "height": 564
        },
        "id": "llRMd-HqHdvv",
        "outputId": "ecde9051-09c4-4473-dfcc-5d50693e34ca"
      },
      "execution_count": null,
      "outputs": [
        {
          "output_type": "display_data",
          "data": {
            "text/plain": [
              "<Figure size 800x600 with 2 Axes>"
            ],
            "image/png": "[encoded data removed]"
          },
          "metadata": {}
        }
      ]
    },
    {
      "cell_type": "markdown",
      "source": [
        "**True Positives**: 131\n",
        "\n",
        "**True Negatives**: 966\n",
        "\n",
        "**False Positives**: 0\n",
        "\n",
        "**False Negatives**: 18"
      ],
      "metadata": {
        "id": "Wq1UDIIa6VT1"
      }
    },
    {
      "cell_type": "markdown",
      "source": [
        "## **Multilayer Perceptron**"
      ],
      "metadata": {
        "id": "dIQPE7m_xo-f"
      }
    },
    {
      "cell_type": "markdown",
      "source": [
        "The Multilayer Perceptron is a class of neural networks for complex pattern recognition tasks. It consists of multiple layers of interconnected nodes (input layer, output layer, hidden layer, etc.) which  receive and process data, with the classification being performed by the output layer."
      ],
      "metadata": {
        "id": "zdRSnh_yY56k"
      }
    },
    {
      "cell_type": "code",
      "source": [
        "mlp_model = MLPClassifier(hidden_layer_sizes=(100, 50), max_iter=1000, random_state=42)\n",
        "\n",
        "mlp_model.fit(X_train_combined, y_train)\n",
        "\n",
        "y_pred_train_mlp = mlp_model.predict(X_train_combined)\n",
        "\n",
        "accuracy_train = accuracy_score(y_train, y_pred_train_mlp)\n",
        "print(\"Training set accuracy: {:.6f}\".format(accuracy_train))\n",
        "\n",
        "f1_train_mlp = f1_score(y_train, y_pred_train_mlp)\n",
        "print(\"Train set F1 score (MLP): {:.6f}\".format(f1_train_mlp))\n",
        "\n",
        "y_pred_test_mlp = mlp_model.predict(X_test_combined)\n",
        "\n",
        "accuracy_test = accuracy_score(y_test, y_pred_test_mlp)\n",
        "print(\"Test set accuracy: {:.6f}\".format(accuracy_test))\n",
        "\n",
        "f1_test_mlp = f1_score(y_test, y_pred_test_mlp)\n",
        "print(\"Test set F1 score (MLP): {:.6f}\".format(f1_test_mlp))\n",
        "\n",
        "print(\"\\nClassification Report (Test Set):\")\n",
        "print(classification_report(y_test, y_pred_test_mlp))\n",
        "\n",
        "confusion_mlp = confusion_matrix(y_test, y_pred_test_mlp)\n",
        "print(\"\\nConfusion Matrix (Test Set):\")\n",
        "print(confusion_mlp)"
      ],
      "metadata": {
        "colab": {
          "base_uri": "https://localhost:8080/"
        },
        "id": "tTbm4ptxxRhX",
        "outputId": "5b9ea906-e8e6-42bc-a90c-6baaa6c21ba1"
      },
      "execution_count": null,
      "outputs": [
        {
          "output_type": "stream",
          "name": "stdout",
          "text": [
            "Training set accuracy: 1.000000\n",
            "Train set F1 score (MLP): 1.000000\n",
            "Test set accuracy: 0.991928\n",
            "Test set F1 score (MLP): 0.969072\n",
            "\n",
            "Classification Report (Test Set):\n",
            "              precision    recall  f1-score   support\n",
            "\n",
            "           0       0.99      1.00      1.00       966\n",
            "           1       0.99      0.95      0.97       149\n",
            "\n",
            "    accuracy                           0.99      1115\n",
            "   macro avg       0.99      0.97      0.98      1115\n",
            "weighted avg       0.99      0.99      0.99      1115\n",
            "\n",
            "\n",
            "Confusion Matrix (Test Set):\n",
            "[[965   1]\n",
            " [  8 141]]\n"
          ]
        }
      ]
    },
    {
      "cell_type": "code",
      "source": [
        "print(\"Value of alpha:\", mlp_model.alpha)"
      ],
      "metadata": {
        "colab": {
          "base_uri": "https://localhost:8080/"
        },
        "id": "MBJQ2Cm28yTu",
        "outputId": "3f394f80-7f47-4319-931f-69295786a705"
      },
      "execution_count": null,
      "outputs": [
        {
          "output_type": "stream",
          "name": "stdout",
          "text": [
            "Value of alpha: 0.0001\n"
          ]
        }
      ]
    },
    {
      "cell_type": "markdown",
      "source": [
        "With alpha = 0.0001 the model works really well. The model overfits a bit (Training set accuracy = 1) but the accuracy on the test set is really high (99%). There is a false positive. To avoid that we have to tune alpha."
      ],
      "metadata": {
        "id": "o8cdwTyCNlVN"
      }
    },
    {
      "cell_type": "code",
      "source": [
        "plt.figure(figsize=(8, 6))\n",
        "sns.heatmap(confusion_mlp, annot=True, fmt='d', cmap='Blues', annot_kws={\"size\": 16})\n",
        "plt.xlabel('Predicted')\n",
        "plt.ylabel('Actual')\n",
        "plt.title('Confusion Matrix')\n",
        "plt.show()"
      ],
      "metadata": {
        "id": "Y7yRrgXWCXry",
        "colab": {
          "base_uri": "https://localhost:8080/",
          "height": 564
        },
        "outputId": "bc2ff187-9f3c-4e64-a2ac-aa0ee8a2115e"
      },
      "execution_count": null,
      "outputs": [
        {
          "output_type": "display_data",
          "data": {
            "text/plain": [
              "<Figure size 800x600 with 2 Axes>"
            ],
            "image/png": "[encoded data removed]"
          },
          "metadata": {}
        }
      ]
    },
    {
      "cell_type": "markdown",
      "source": [
        "**True Positives**: 141\n",
        "\n",
        "**True Negatives**: 965\n",
        "\n",
        "**False Positives**: 1\n",
        "\n",
        "**False Negatives**: 8\n",
        "\n",
        "(This results may vary due to the presents of a random state)"
      ],
      "metadata": {
        "id": "NEpSSHLc6eVo"
      }
    },
    {
      "cell_type": "markdown",
      "source": [
        "### **Cross validation & hyperparameters tuning**"
      ],
      "metadata": {
        "id": "ArKpTRhUY-o-"
      }
    },
    {
      "cell_type": "markdown",
      "source": [
        "In order to regulate the complexity of this model, we can tune a specific parameter, associated to the so called *l2 penalty*: alpha. Increasing the value of this parameter leads to an increased regularization, reducing the model's complexity."
      ],
      "metadata": {
        "id": "XZ6UCGnNY93m"
      }
    },
    {
      "cell_type": "code",
      "source": [
        "alpha_values = np.logspace(-5, 3, 9)\n",
        "scoresMLP = []\n",
        "\n",
        "for alpha in alpha_values:\n",
        "    mlp_model = MLPClassifier(alpha=alpha)\n",
        "    f1_scorer = make_scorer(f1_score, greater_is_better=True)\n",
        "    score = cross_val_score(mlp_model, X_train_combined, y_train, cv=5, scoring=f1_scorer)\n",
        "    scoresMLP.append(np.mean(score))\n",
        "\n",
        "# Find the index of the best alpha value\n",
        "best_alphaMLP_index = np.argmax(scoresMLP)\n",
        "best_alphaMLP_value = alpha_values[best_alphaMLP_index]"
      ],
      "metadata": {
        "id": "T7Ael1SFkqky",
        "colab": {
          "base_uri": "https://localhost:8080/"
        },
        "outputId": "bfbae59b-2d5e-4e11-cfc9-c31eccb2537a"
      },
      "execution_count": null,
      "outputs": [
        {
          "output_type": "stream",
          "name": "stderr",
          "text": [
            "/usr/local/lib/python3.10/dist-packages/sklearn/neural_network/_multilayer_perceptron.py:686: ConvergenceWarning: Stochastic Optimizer: Maximum iterations (200) reached and the optimization hasn't converged yet.\n",
            "  warnings.warn(\n",
            "/usr/local/lib/python3.10/dist-packages/sklearn/neural_network/_multilayer_perceptron.py:686: ConvergenceWarning: Stochastic Optimizer: Maximum iterations (200) reached and the optimization hasn't converged yet.\n",
            "  warnings.warn(\n",
            "/usr/local/lib/python3.10/dist-packages/sklearn/neural_network/_multilayer_perceptron.py:686: ConvergenceWarning: Stochastic Optimizer: Maximum iterations (200) reached and the optimization hasn't converged yet.\n",
            "  warnings.warn(\n",
            "/usr/local/lib/python3.10/dist-packages/sklearn/neural_network/_multilayer_perceptron.py:686: ConvergenceWarning: Stochastic Optimizer: Maximum iterations (200) reached and the optimization hasn't converged yet.\n",
            "  warnings.warn(\n",
            "/usr/local/lib/python3.10/dist-packages/sklearn/neural_network/_multilayer_perceptron.py:686: ConvergenceWarning: Stochastic Optimizer: Maximum iterations (200) reached and the optimization hasn't converged yet.\n",
            "  warnings.warn(\n",
            "/usr/local/lib/python3.10/dist-packages/sklearn/neural_network/_multilayer_perceptron.py:686: ConvergenceWarning: Stochastic Optimizer: Maximum iterations (200) reached and the optimization hasn't converged yet.\n",
            "  warnings.warn(\n",
            "/usr/local/lib/python3.10/dist-packages/sklearn/neural_network/_multilayer_perceptron.py:686: ConvergenceWarning: Stochastic Optimizer: Maximum iterations (200) reached and the optimization hasn't converged yet.\n",
            "  warnings.warn(\n"
          ]
        }
      ]
    },
    {
      "cell_type": "code",
      "source": [
        "for alpha, score in zip(alpha_values, scoresMLP):\n",
        "    print(\"Alpha = {:.6f}, Mean Cross-Validation F1 Score: {:.6f}\".format(alpha, score))"
      ],
      "metadata": {
        "colab": {
          "base_uri": "https://localhost:8080/"
        },
        "id": "D8PLGaKlppDb",
        "outputId": "803cb87c-7cf6-4471-cc25-ae0f4f919380"
      },
      "execution_count": null,
      "outputs": [
        {
          "output_type": "stream",
          "name": "stdout",
          "text": [
            "Alpha = 0.000010, Mean Cross-Validation F1 Score: 0.949950\n",
            "Alpha = 0.000100, Mean Cross-Validation F1 Score: 0.950010\n",
            "Alpha = 0.001000, Mean Cross-Validation F1 Score: 0.948062\n",
            "Alpha = 0.010000, Mean Cross-Validation F1 Score: 0.948996\n",
            "Alpha = 0.100000, Mean Cross-Validation F1 Score: 0.940909\n",
            "Alpha = 1.000000, Mean Cross-Validation F1 Score: 0.899850\n",
            "Alpha = 10.000000, Mean Cross-Validation F1 Score: 0.000000\n",
            "Alpha = 100.000000, Mean Cross-Validation F1 Score: 0.000000\n",
            "Alpha = 1000.000000, Mean Cross-Validation F1 Score: 0.000000\n"
          ]
        }
      ]
    },
    {
      "cell_type": "markdown",
      "source": [
        "We plot these results to better understand them."
      ],
      "metadata": {
        "id": "dA_3es8EZCUn"
      }
    },
    {
      "cell_type": "code",
      "source": [
        "sns.lineplot(x=alpha_values, y=scoresMLP, marker='o')\n",
        "plt.xlabel(\"alpha Values\")\n",
        "plt.ylabel(\"Precision Score\")\n",
        "plt.title(\"Cross-Validation Scores for SVM with RBF Kernel\")\n",
        "plt.grid(True)\n",
        "plt.show()"
      ],
      "metadata": {
        "colab": {
          "base_uri": "https://localhost:8080/",
          "height": 472
        },
        "id": "HJn2nZPFpyrk",
        "outputId": "b17c7d65-72f7-408f-872f-b42a86ab1e71"
      },
      "execution_count": null,
      "outputs": [
        {
          "output_type": "display_data",
          "data": {
            "text/plain": [
              "<Figure size 640x480 with 1 Axes>"
            ],
            "image/png": "[encoded data removed]"
          },
          "metadata": {}
        }
      ]
    },
    {
      "cell_type": "markdown",
      "source": [
        "The default value of alpha is the best so we do not change that."
      ],
      "metadata": {
        "id": "lOdU2Er9VKL3"
      }
    },
    {
      "cell_type": "markdown",
      "source": [
        "# **Architecture selection**"
      ],
      "metadata": {
        "id": "PcNR50izgDq5"
      }
    },
    {
      "cell_type": "markdown",
      "source": [
        "Considering what we have said until this point, we believe that the best model for our task is the Logistic Regression model. The main reasons that led us to this decision can be summed up as follows:\n",
        "*   While the model is quite overfitting - as we can see by looking at the performance on the Training set - the accuracy obtained on the Test set is incredibly good.\n",
        "*   After tuning the C parameter, we obtain very good results on the classification task, with a number of false positives equal to 0 and just 10 false negatives. This is the best outcome that we obtain across all the models that we have taken into consideration.\n",
        "*   Additionally, the F1 score, which was the main discriminant for this analysis, is very high."
      ],
      "metadata": {
        "id": "nP6caYoEZMwu"
      }
    }
  ]
}